{
  "nbformat": 4,
  "nbformat_minor": 0,
  "metadata": {
    "colab": {
      "name": "HI_decomposition_nguyen_et_al_2019.ipynb",
      "provenance": [],
      "collapsed_sections": [],
      "authorship_tag": "ABX9TyM/k1C3g/oM+w1DxommY4ot",
      "include_colab_link": true
    },
    "kernelspec": {
      "name": "python3",
      "display_name": "Python 3"
    },
    "language_info": {
      "name": "python"
    },
    "accelerator": "GPU"
  },
  "cells": [
    {
      "cell_type": "markdown",
      "metadata": {
        "id": "view-in-github",
        "colab_type": "text"
      },
      "source": [
        "<a href=\"https://colab.research.google.com/github/nv-hiep/nguyen_et_al_2019/blob/main/HI_decomposition_nguyen_et_al_2019.ipynb\" target=\"_parent\"><img src=\"https://colab.research.google.com/assets/colab-badge.svg\" alt=\"Open In Colab\"/></a>"
      ]
    },
    {
      "cell_type": "markdown",
      "metadata": {
        "id": "z7slQ9Y9f7Sr"
      },
      "source": [
        "# 1. Libraries"
      ]
    },
    {
      "cell_type": "code",
      "metadata": {
        "id": "pLXcM68QdTTR"
      },
      "source": [
        "# Python ≥3.5 is required\n",
        "import sys\n",
        "assert sys.version_info >= (3, 5)\n",
        "\n",
        "# Scikit-Learn ≥0.20 is required\n",
        "import sklearn\n",
        "assert sklearn.__version__ >= '0.20'\n",
        "\n",
        "try:\n",
        "    # %tensorflow_version only exists in Colab.\n",
        "    %tensorflow_version 2.x\n",
        "    IS_COLAB = True\n",
        "except Exception:\n",
        "    IS_COLAB = False\n",
        "\n",
        "# TensorFlow ≥2.0 is required\n",
        "import tensorflow as tf\n",
        "from tensorflow import keras\n",
        "assert tf.__version__ >= '2.0'\n",
        "\n",
        "if not tf.config.list_physical_devices('GPU'):\n",
        "    print('No GPU was detected. LSTMs and CNNs can be very slow without a GPU.')\n",
        "    if IS_COLAB:\n",
        "        print('Go to Runtime > Change runtime and select a GPU hardware accelerator.')\n",
        "\n",
        "# Common imports\n",
        "import os\n",
        "import shutil\n",
        "import itertools\n",
        "import glob\n",
        "import numpy as np\n",
        "import matplotlib.image as mpimg\n",
        "import pandas as pd\n",
        "\n",
        "import string\n",
        "import pickle\n",
        "\n",
        "from tqdm import tqdm\n",
        "from time import time\n",
        "from PIL import Image\n",
        "\n",
        "\n",
        "# to make this notebook's output stable across runs\n",
        "np.random.seed(42)\n",
        "tf.random.set_seed(42)\n",
        "\n",
        "# To plot pretty figures\n",
        "%matplotlib inline\n",
        "import matplotlib as mpl\n",
        "import matplotlib.pyplot as plt\n",
        "# mpl.rc('axes', labelsize=14)\n",
        "# mpl.rc('xtick', labelsize=12)\n",
        "# mpl.rc('ytick', labelsize=12)"
      ],
      "execution_count": 1,
      "outputs": []
    },
    {
      "cell_type": "code",
      "metadata": {
        "id": "Tkd5LbbaE_iW"
      },
      "source": [
        "from astropy.io import fits\n",
        "from mpl_toolkits.axes_grid1 import make_axes_locatable"
      ],
      "execution_count": 2,
      "outputs": []
    },
    {
      "cell_type": "code",
      "metadata": {
        "id": "mQ6evHYWKUsr"
      },
      "source": [
        "# !pip install latex\n",
        "# ! apt install texlive texlive-latex-extra texlive-fonts-recommended dvipng"
      ],
      "execution_count": 3,
      "outputs": []
    },
    {
      "cell_type": "markdown",
      "metadata": {
        "id": "BVhoD8seDk4x"
      },
      "source": [
        "# 2. Connect to Google Drive"
      ]
    },
    {
      "cell_type": "code",
      "metadata": {
        "id": "srBiJiFEaKl1",
        "colab": {
          "base_uri": "https://localhost:8080/"
        },
        "outputId": "6f39f35d-d8d3-4dc5-f01e-356fde278fea"
      },
      "source": [
        "# Check if NVIDIA GPU is enabled\n",
        "!nvidia-smi"
      ],
      "execution_count": 4,
      "outputs": [
        {
          "output_type": "stream",
          "text": [
            "Wed Jun 30 08:04:39 2021       \n",
            "+-----------------------------------------------------------------------------+\n",
            "| NVIDIA-SMI 465.27       Driver Version: 460.32.03    CUDA Version: 11.2     |\n",
            "|-------------------------------+----------------------+----------------------+\n",
            "| GPU  Name        Persistence-M| Bus-Id        Disp.A | Volatile Uncorr. ECC |\n",
            "| Fan  Temp  Perf  Pwr:Usage/Cap|         Memory-Usage | GPU-Util  Compute M. |\n",
            "|                               |                      |               MIG M. |\n",
            "|===============================+======================+======================|\n",
            "|   0  Tesla T4            Off  | 00000000:00:04.0 Off |                    0 |\n",
            "| N/A   34C    P8     9W /  70W |      3MiB / 15109MiB |      0%      Default |\n",
            "|                               |                      |                  N/A |\n",
            "+-------------------------------+----------------------+----------------------+\n",
            "                                                                               \n",
            "+-----------------------------------------------------------------------------+\n",
            "| Processes:                                                                  |\n",
            "|  GPU   GI   CI        PID   Type   Process name                  GPU Memory |\n",
            "|        ID   ID                                                   Usage      |\n",
            "|=============================================================================|\n",
            "|  No running processes found                                                 |\n",
            "+-----------------------------------------------------------------------------+\n"
          ],
          "name": "stdout"
        }
      ]
    },
    {
      "cell_type": "code",
      "metadata": {
        "id": "PjjcQSpya_FR",
        "colab": {
          "base_uri": "https://localhost:8080/"
        },
        "outputId": "018ced00-c96f-4388-d34d-c0be58bb9cb2"
      },
      "source": [
        "from google.colab import drive\n",
        "drive.mount('/content/gdrive')\n",
        "!ls"
      ],
      "execution_count": 5,
      "outputs": [
        {
          "output_type": "stream",
          "text": [
            "Drive already mounted at /content/gdrive; to attempt to forcibly remount, call drive.mount(\"/content/gdrive\", force_remount=True).\n",
            "gdrive\tsample_data\n"
          ],
          "name": "stdout"
        }
      ]
    },
    {
      "cell_type": "code",
      "metadata": {
        "id": "iYM4wmy-cFlK",
        "colab": {
          "base_uri": "https://localhost:8080/"
        },
        "outputId": "cea9c19d-739a-46a2-a5bc-7475570f99f3"
      },
      "source": [
        "# %cd /content/gdrive/My Drive/\n",
        "%cd /content/gdrive/My Drive/Colab Notebooks/nguyen_et_al_2019/\n",
        "!ls"
      ],
      "execution_count": 6,
      "outputs": [
        {
          "output_type": "stream",
          "text": [
            "/content/gdrive/My Drive/Colab Notebooks/nguyen_et_al_2019\n",
            "fitted_parameters\t\t\t  Plot_Gaussian_and_pseudo_Voigt.ipynb\n",
            "HI_decomposition_nguyen_et_al_2019.ipynb  scripts\n",
            "HI_spectra\t\t\t\t  Source_list.csv\n",
            "images\t\t\t\t\t  Source_list.gsheet\n"
          ],
          "name": "stdout"
        }
      ]
    },
    {
      "cell_type": "code",
      "metadata": {
        "colab": {
          "base_uri": "https://localhost:8080/"
        },
        "id": "oljDNo3zFO-z",
        "outputId": "74134269-9fb8-4c9f-93de-6f8f5b5ec2bf"
      },
      "source": [
        "! pwd"
      ],
      "execution_count": 7,
      "outputs": [
        {
          "output_type": "stream",
          "text": [
            "/content/gdrive/My Drive/Colab Notebooks/nguyen_et_al_2019\n"
          ],
          "name": "stdout"
        }
      ]
    },
    {
      "cell_type": "markdown",
      "metadata": {
        "id": "o86-F-QZFqjU"
      },
      "source": [
        "## 3. Paths to Data Directories"
      ]
    },
    {
      "cell_type": "code",
      "metadata": {
        "id": "ynr1SMD4FOSs"
      },
      "source": [
        "PROJECT_PATH       = '/content/gdrive/My Drive/Colab Notebooks/nguyen_et_al_2019'\n",
        "SPECTRA_PATH       = os.path.join( PROJECT_PATH, 'HI_spectra' )\n",
        "FITTED_PARAMS_PATH = os.path.join( PROJECT_PATH, 'fitted_parameters' )\n",
        "\n",
        "CNM_params  = os.path.join( FITTED_PARAMS_PATH, 'CNM_fitted_parameters', 'CNM_Gaussian_parameters.fits' )\n",
        "WNM_params  = os.path.join( FITTED_PARAMS_PATH, 'WNM_fitted_parameters', 'WNM_Gaussian_parameters.fits' )\n",
        "\n",
        "psV_CNM_params  = os.path.join( FITTED_PARAMS_PATH, 'CNM_fitted_parameters', 'CNM_pseudoVoigt_parameters.fits' )\n",
        "psV_WNM_params  = os.path.join( FITTED_PARAMS_PATH, 'WNM_fitted_parameters', 'WNM_pseudoVoigt_parameters.fits' )"
      ],
      "execution_count": 8,
      "outputs": []
    },
    {
      "cell_type": "markdown",
      "metadata": {
        "id": "04-MzFqOz_aI"
      },
      "source": [
        "# 4. List of sources"
      ]
    },
    {
      "cell_type": "code",
      "metadata": {
        "id": "mZhMyv610Cvt"
      },
      "source": [
        "df = pd.read_csv(os.path.join( PROJECT_PATH, 'Source_list.csv' ))\n",
        "pd.set_option('display.max_rows', df.shape[0]+1)"
      ],
      "execution_count": 9,
      "outputs": []
    },
    {
      "cell_type": "code",
      "metadata": {
        "colab": {
          "base_uri": "https://localhost:8080/",
          "height": 1000
        },
        "id": "GnK0jOhr0080",
        "outputId": "0a791b2e-cebc-4ca4-d987-78f4bf0f8ca4"
      },
      "source": [
        "df"
      ],
      "execution_count": 10,
      "outputs": [
        {
          "output_type": "execute_result",
          "data": {
            "text/html": [
              "<div>\n",
              "<style scoped>\n",
              "    .dataframe tbody tr th:only-of-type {\n",
              "        vertical-align: middle;\n",
              "    }\n",
              "\n",
              "    .dataframe tbody tr th {\n",
              "        vertical-align: top;\n",
              "    }\n",
              "\n",
              "    .dataframe thead th {\n",
              "        text-align: right;\n",
              "    }\n",
              "</style>\n",
              "<table border=\"1\" class=\"dataframe\">\n",
              "  <thead>\n",
              "    <tr style=\"text-align: right;\">\n",
              "      <th></th>\n",
              "      <th>Source name</th>\n",
              "      <th>R.A (J2000)</th>\n",
              "      <th>DEC (J2000)</th>\n",
              "      <th>l(deg)</th>\n",
              "      <th>b(deg)</th>\n",
              "      <th>Flux(1.4GHz) in Jy</th>\n",
              "      <th>Tsky (K)</th>\n",
              "    </tr>\n",
              "  </thead>\n",
              "  <tbody>\n",
              "    <tr>\n",
              "      <th>0</th>\n",
              "      <td>J034053+073525 (4C+07.13)</td>\n",
              "      <td>03:40:53.73</td>\n",
              "      <td>07:35:25.40</td>\n",
              "      <td>178.87</td>\n",
              "      <td>-36.27</td>\n",
              "      <td>1.01</td>\n",
              "      <td>4.07</td>\n",
              "    </tr>\n",
              "    <tr>\n",
              "      <th>1</th>\n",
              "      <td>J032153+122114 (PKS0319+12)</td>\n",
              "      <td>03:21:53.11</td>\n",
              "      <td>12:21:14.00</td>\n",
              "      <td>170.59</td>\n",
              "      <td>-36.24</td>\n",
              "      <td>1.91</td>\n",
              "      <td>4.51</td>\n",
              "    </tr>\n",
              "    <tr>\n",
              "      <th>2</th>\n",
              "      <td>J032723+120835 (4C+11.15)</td>\n",
              "      <td>03:27:23.11</td>\n",
              "      <td>12:08:35.80</td>\n",
              "      <td>171.98</td>\n",
              "      <td>-35.48</td>\n",
              "      <td>1.21</td>\n",
              "      <td>4.17</td>\n",
              "    </tr>\n",
              "    <tr>\n",
              "      <th>3</th>\n",
              "      <td>J031857+162833 (4C+16.09)</td>\n",
              "      <td>03:18:57.77</td>\n",
              "      <td>16:28:33.10</td>\n",
              "      <td>166.64</td>\n",
              "      <td>-33.60</td>\n",
              "      <td>8.03</td>\n",
              "      <td>6.93</td>\n",
              "    </tr>\n",
              "    <tr>\n",
              "      <th>4</th>\n",
              "      <td>J033626+130233 (3C090)</td>\n",
              "      <td>03:36:26.56</td>\n",
              "      <td>13:02:33.20</td>\n",
              "      <td>173.15</td>\n",
              "      <td>-33.29</td>\n",
              "      <td>1.99</td>\n",
              "      <td>4.67</td>\n",
              "    </tr>\n",
              "    <tr>\n",
              "      <th>5</th>\n",
              "      <td>J035613+130535</td>\n",
              "      <td>03:56:13.81</td>\n",
              "      <td>13:05:35.80</td>\n",
              "      <td>177.02</td>\n",
              "      <td>-29.78</td>\n",
              "      <td>0.89</td>\n",
              "      <td>4.14</td>\n",
              "    </tr>\n",
              "    <tr>\n",
              "      <th>6</th>\n",
              "      <td>J035900+143622 (3C096)</td>\n",
              "      <td>03:59:00.91</td>\n",
              "      <td>14:36:22.50</td>\n",
              "      <td>176.27</td>\n",
              "      <td>-28.26</td>\n",
              "      <td>1.20</td>\n",
              "      <td>4.37</td>\n",
              "    </tr>\n",
              "    <tr>\n",
              "      <th>7</th>\n",
              "      <td>J042725+085330 (4C+08.15)</td>\n",
              "      <td>04:27:25.05</td>\n",
              "      <td>08:53:30.30</td>\n",
              "      <td>186.21</td>\n",
              "      <td>-26.51</td>\n",
              "      <td>0.94</td>\n",
              "      <td>4.08</td>\n",
              "    </tr>\n",
              "    <tr>\n",
              "      <th>8</th>\n",
              "      <td>J032504+244445 (4C+24.06)</td>\n",
              "      <td>03:25:04.35</td>\n",
              "      <td>24:44:46</td>\n",
              "      <td>161.92</td>\n",
              "      <td>-26.26</td>\n",
              "      <td>0.81</td>\n",
              "      <td>4.13</td>\n",
              "    </tr>\n",
              "    <tr>\n",
              "      <th>9</th>\n",
              "      <td>J035633+190034 (4C+18.11)</td>\n",
              "      <td>03:56:33.46</td>\n",
              "      <td>19:00:34.60</td>\n",
              "      <td>172.23</td>\n",
              "      <td>-25.66</td>\n",
              "      <td>1.05</td>\n",
              "      <td>4.15</td>\n",
              "    </tr>\n",
              "    <tr>\n",
              "      <th>10</th>\n",
              "      <td>J041140+171405 (4C+17.23)</td>\n",
              "      <td>04:11:40.77</td>\n",
              "      <td>17:14:05.10</td>\n",
              "      <td>176.36</td>\n",
              "      <td>-24.24</td>\n",
              "      <td>1.03</td>\n",
              "      <td>4.26</td>\n",
              "    </tr>\n",
              "    <tr>\n",
              "      <th>11</th>\n",
              "      <td>J042022+175355 (3C114)</td>\n",
              "      <td>04:20:22.17</td>\n",
              "      <td>17:53:55.20</td>\n",
              "      <td>177.30</td>\n",
              "      <td>-22.24</td>\n",
              "      <td>1.11</td>\n",
              "      <td>4.23</td>\n",
              "    </tr>\n",
              "    <tr>\n",
              "      <th>12</th>\n",
              "      <td>J042524+175525 (4C+17.25)</td>\n",
              "      <td>04:25:24.43</td>\n",
              "      <td>17:55:25.30</td>\n",
              "      <td>178.11</td>\n",
              "      <td>-21.31</td>\n",
              "      <td>0.88</td>\n",
              "      <td>4.16</td>\n",
              "    </tr>\n",
              "    <tr>\n",
              "      <th>13</th>\n",
              "      <td>J042756+175242 (4C+17.26)</td>\n",
              "      <td>04:27:56.98</td>\n",
              "      <td>17:52:42.80</td>\n",
              "      <td>178.56</td>\n",
              "      <td>-20.88</td>\n",
              "      <td>1.01</td>\n",
              "      <td>4.22</td>\n",
              "    </tr>\n",
              "    <tr>\n",
              "      <th>14</th>\n",
              "      <td>J044907+112128 (PKS0446+11)</td>\n",
              "      <td>04:49:07.65</td>\n",
              "      <td>11:21:28.20</td>\n",
              "      <td>187.43</td>\n",
              "      <td>-20.74</td>\n",
              "      <td>0.85</td>\n",
              "      <td>4.16</td>\n",
              "    </tr>\n",
              "    <tr>\n",
              "      <th>15</th>\n",
              "      <td>J034008+320901 (3C092)</td>\n",
              "      <td>03:40:08.54</td>\n",
              "      <td>32:09:01</td>\n",
              "      <td>159.74</td>\n",
              "      <td>-18.41</td>\n",
              "      <td>1.61</td>\n",
              "      <td>3.95</td>\n",
              "    </tr>\n",
              "    <tr>\n",
              "      <th>16</th>\n",
              "      <td>J042846+213331 (4C+21.17)</td>\n",
              "      <td>04:28:46.64</td>\n",
              "      <td>21:33:31.40</td>\n",
              "      <td>175.70</td>\n",
              "      <td>-18.36</td>\n",
              "      <td>1.34</td>\n",
              "      <td>4.35</td>\n",
              "    </tr>\n",
              "    <tr>\n",
              "      <th>17</th>\n",
              "      <td>J040442+290215 (4C+28.11)</td>\n",
              "      <td>04:04:42.82</td>\n",
              "      <td>29:02:16</td>\n",
              "      <td>166.06</td>\n",
              "      <td>-17.22</td>\n",
              "      <td>0.95</td>\n",
              "      <td>3.69</td>\n",
              "    </tr>\n",
              "    <tr>\n",
              "      <th>18</th>\n",
              "      <td>J052424+074957 (4C+07.16)</td>\n",
              "      <td>05:24:24.04</td>\n",
              "      <td>07:49:57.10</td>\n",
              "      <td>195.51</td>\n",
              "      <td>-15.35</td>\n",
              "      <td>0.82</td>\n",
              "      <td>4.25</td>\n",
              "    </tr>\n",
              "    <tr>\n",
              "      <th>19</th>\n",
              "      <td>J051240+151723 (PKS0509+152)</td>\n",
              "      <td>05:12:40.99</td>\n",
              "      <td>15:17:23.80</td>\n",
              "      <td>187.41</td>\n",
              "      <td>-13.79</td>\n",
              "      <td>0.97</td>\n",
              "      <td>4.11</td>\n",
              "    </tr>\n",
              "    <tr>\n",
              "      <th>20</th>\n",
              "      <td>J053239+073243</td>\n",
              "      <td>05:32:39.01</td>\n",
              "      <td>07:32:43.50</td>\n",
              "      <td>196.84</td>\n",
              "      <td>-13.74</td>\n",
              "      <td>2.73</td>\n",
              "      <td>4.96</td>\n",
              "    </tr>\n",
              "    <tr>\n",
              "      <th>21</th>\n",
              "      <td>J051930+142829 (4C+14.14)</td>\n",
              "      <td>05:19:30.95</td>\n",
              "      <td>14:28:29.00</td>\n",
              "      <td>189.04</td>\n",
              "      <td>-12.85</td>\n",
              "      <td>0.86</td>\n",
              "      <td>4.15</td>\n",
              "    </tr>\n",
              "    <tr>\n",
              "      <th>22</th>\n",
              "      <td>J053450+100430 (4C+09.21)</td>\n",
              "      <td>05:34:50.82</td>\n",
              "      <td>10:04:30.30</td>\n",
              "      <td>194.89</td>\n",
              "      <td>-11.98</td>\n",
              "      <td>1.06</td>\n",
              "      <td>4.62</td>\n",
              "    </tr>\n",
              "    <tr>\n",
              "      <th>23</th>\n",
              "      <td>J041236+353543 (4C+35.07)</td>\n",
              "      <td>04:12:36.28</td>\n",
              "      <td>35:35:43</td>\n",
              "      <td>162.58</td>\n",
              "      <td>-11.36</td>\n",
              "      <td>0.86</td>\n",
              "      <td>3.93</td>\n",
              "    </tr>\n",
              "    <tr>\n",
              "      <th>24</th>\n",
              "      <td>J052109+163822 (3C138)</td>\n",
              "      <td>05:21:09.93</td>\n",
              "      <td>16:38:22.20</td>\n",
              "      <td>187.41</td>\n",
              "      <td>-11.34</td>\n",
              "      <td>8.60</td>\n",
              "      <td>7.59</td>\n",
              "    </tr>\n",
              "    <tr>\n",
              "      <th>25</th>\n",
              "      <td>J053056+133155 (PKS0528+134)</td>\n",
              "      <td>05:30:56.44</td>\n",
              "      <td>13:31:55.30</td>\n",
              "      <td>191.37</td>\n",
              "      <td>-11.01</td>\n",
              "      <td>1.56</td>\n",
              "      <td>4.64</td>\n",
              "    </tr>\n",
              "    <tr>\n",
              "      <th>26</th>\n",
              "      <td>J042353+345144 (3C115)</td>\n",
              "      <td>04:23:53.25</td>\n",
              "      <td>34:51:45</td>\n",
              "      <td>164.76</td>\n",
              "      <td>-10.24</td>\n",
              "      <td>1.30</td>\n",
              "      <td>3.88</td>\n",
              "    </tr>\n",
              "    <tr>\n",
              "      <th>27</th>\n",
              "      <td>J060536+014512 (4C+01.17)</td>\n",
              "      <td>06:05:36.56</td>\n",
              "      <td>01:45:12.70</td>\n",
              "      <td>206.08</td>\n",
              "      <td>-9.37</td>\n",
              "      <td>0.61</td>\n",
              "      <td>4.07</td>\n",
              "    </tr>\n",
              "    <tr>\n",
              "      <th>28</th>\n",
              "      <td>J045956+270602 (4C+27.14)</td>\n",
              "      <td>04:59:56.09</td>\n",
              "      <td>27:06:03</td>\n",
              "      <td>175.83</td>\n",
              "      <td>-9.36</td>\n",
              "      <td>0.93</td>\n",
              "      <td>3.90</td>\n",
              "    </tr>\n",
              "    <tr>\n",
              "      <th>29</th>\n",
              "      <td>J051740+235110 (4C+23.14)</td>\n",
              "      <td>05:17:40.81</td>\n",
              "      <td>23:51:10.20</td>\n",
              "      <td>180.86</td>\n",
              "      <td>-8.01</td>\n",
              "      <td>0.97</td>\n",
              "      <td>4.32</td>\n",
              "    </tr>\n",
              "    <tr>\n",
              "      <th>30</th>\n",
              "      <td>J045323+312924 (3C131)</td>\n",
              "      <td>04:53:23.34</td>\n",
              "      <td>31:29:24</td>\n",
              "      <td>171.44</td>\n",
              "      <td>-7.80</td>\n",
              "      <td>2.87</td>\n",
              "      <td>4.04</td>\n",
              "    </tr>\n",
              "    <tr>\n",
              "      <th>31</th>\n",
              "      <td>J053557+175600 (4C+17.33)</td>\n",
              "      <td>05:35:57.42</td>\n",
              "      <td>17:56:00.70</td>\n",
              "      <td>188.22</td>\n",
              "      <td>-7.67</td>\n",
              "      <td>0.83</td>\n",
              "      <td>4.23</td>\n",
              "    </tr>\n",
              "    <tr>\n",
              "      <th>32</th>\n",
              "      <td>J053444+192721 (PKS0531+19)</td>\n",
              "      <td>05:34:44.51</td>\n",
              "      <td>19:27:21.70</td>\n",
              "      <td>186.76</td>\n",
              "      <td>-7.11</td>\n",
              "      <td>7.02</td>\n",
              "      <td>6.48</td>\n",
              "    </tr>\n",
              "    <tr>\n",
              "      <th>33</th>\n",
              "      <td>J054046+172839 (4C+17.34)</td>\n",
              "      <td>05:40:46.05</td>\n",
              "      <td>17:28:39.20</td>\n",
              "      <td>189.21</td>\n",
              "      <td>-6.93</td>\n",
              "      <td>1.47</td>\n",
              "      <td>4.50</td>\n",
              "    </tr>\n",
              "    <tr>\n",
              "      <th>34</th>\n",
              "      <td>J050929+295755 (4C+29.16)</td>\n",
              "      <td>05:09:29.51</td>\n",
              "      <td>29:57:56</td>\n",
              "      <td>174.77</td>\n",
              "      <td>-5.97</td>\n",
              "      <td>1.06</td>\n",
              "      <td>4.03</td>\n",
              "    </tr>\n",
              "    <tr>\n",
              "      <th>35</th>\n",
              "      <td>J061900+050630</td>\n",
              "      <td>06:19:00.21</td>\n",
              "      <td>05:06:30.80</td>\n",
              "      <td>204.66</td>\n",
              "      <td>-4.84</td>\n",
              "      <td>0.69</td>\n",
              "      <td>4.19</td>\n",
              "    </tr>\n",
              "    <tr>\n",
              "      <th>36</th>\n",
              "      <td>J062812+010926 (4C+01.19)</td>\n",
              "      <td>06:28:12.55</td>\n",
              "      <td>01:09:26.00</td>\n",
              "      <td>209.24</td>\n",
              "      <td>-4.64</td>\n",
              "      <td>0.94</td>\n",
              "      <td>4.27</td>\n",
              "    </tr>\n",
              "    <tr>\n",
              "      <th>37</th>\n",
              "      <td>J062152+043834 (4C+04.22)</td>\n",
              "      <td>06:21:52.90</td>\n",
              "      <td>04:38:34.50</td>\n",
              "      <td>205.41</td>\n",
              "      <td>-4.43</td>\n",
              "      <td>1.06</td>\n",
              "      <td>4.35</td>\n",
              "    </tr>\n",
              "    <tr>\n",
              "      <th>38</th>\n",
              "      <td>J062551+043540 (4C+04.24)</td>\n",
              "      <td>06:25:51.89</td>\n",
              "      <td>04:35:40.20</td>\n",
              "      <td>205.92</td>\n",
              "      <td>-3.57</td>\n",
              "      <td>0.81</td>\n",
              "      <td>4.28</td>\n",
              "    </tr>\n",
              "    <tr>\n",
              "      <th>39</th>\n",
              "      <td>J053425+273223 (B0531+2730)</td>\n",
              "      <td>05:34:25.73</td>\n",
              "      <td>27:32:24</td>\n",
              "      <td>179.87</td>\n",
              "      <td>-2.83</td>\n",
              "      <td>1.04</td>\n",
              "      <td>4.25</td>\n",
              "    </tr>\n",
              "    <tr>\n",
              "      <th>40</th>\n",
              "      <td>J061622+115553</td>\n",
              "      <td>06:16:22.32</td>\n",
              "      <td>11:55:53.90</td>\n",
              "      <td>198.33</td>\n",
              "      <td>-2.20</td>\n",
              "      <td>0.83</td>\n",
              "      <td>4.41</td>\n",
              "    </tr>\n",
              "    <tr>\n",
              "      <th>41</th>\n",
              "      <td>J055955+190852 (4C+19.18)</td>\n",
              "      <td>05:59:55.70</td>\n",
              "      <td>19:08:52.50</td>\n",
              "      <td>190.09</td>\n",
              "      <td>-2.17</td>\n",
              "      <td>1.03</td>\n",
              "      <td>4.45</td>\n",
              "    </tr>\n",
              "    <tr>\n",
              "      <th>42</th>\n",
              "      <td>J060157+192216 (4C+19.19)</td>\n",
              "      <td>06:01:57.97</td>\n",
              "      <td>19:22:16.30</td>\n",
              "      <td>190.13</td>\n",
              "      <td>-1.64</td>\n",
              "      <td>0.80</td>\n",
              "      <td>4.43</td>\n",
              "    </tr>\n",
              "    <tr>\n",
              "      <th>43</th>\n",
              "      <td>J060933+162207 (4C+16.15)\\tablenotemark{**}</td>\n",
              "      <td>06:09:33.51</td>\n",
              "      <td>16:22:07.00</td>\n",
              "      <td>193.64</td>\n",
              "      <td>-1.53</td>\n",
              "      <td>0.73</td>\n",
              "      <td>4.58</td>\n",
              "    </tr>\n",
              "    <tr>\n",
              "      <th>44</th>\n",
              "      <td>J061857+133631 (4C+13.32)</td>\n",
              "      <td>06:18:57.50</td>\n",
              "      <td>13:36:31.50</td>\n",
              "      <td>197.15</td>\n",
              "      <td>-0.85</td>\n",
              "      <td>1.96</td>\n",
              "      <td>4.86</td>\n",
              "    </tr>\n",
              "    <tr>\n",
              "      <th>45</th>\n",
              "      <td>J054844+263600 (4C+26.18)\\tablenotemark{**}</td>\n",
              "      <td>05:48:44.28</td>\n",
              "      <td>26:36:00</td>\n",
              "      <td>182.36</td>\n",
              "      <td>-0.62</td>\n",
              "      <td>1.16</td>\n",
              "      <td>3.98</td>\n",
              "    </tr>\n",
              "    <tr>\n",
              "      <th>46</th>\n",
              "      <td>J054211+290147 (4C+29.19)</td>\n",
              "      <td>05:42:11.81</td>\n",
              "      <td>29:01:48</td>\n",
              "      <td>179.53</td>\n",
              "      <td>-0.59</td>\n",
              "      <td>0.98</td>\n",
              "      <td>4.13</td>\n",
              "    </tr>\n",
              "    <tr>\n",
              "      <th>47</th>\n",
              "      <td>J063313+081318 (4C+08.21)</td>\n",
              "      <td>06:33:13.01</td>\n",
              "      <td>08:13:18.90</td>\n",
              "      <td>203.54</td>\n",
              "      <td>-0.27</td>\n",
              "      <td>1.10</td>\n",
              "      <td>4.46</td>\n",
              "    </tr>\n",
              "    <tr>\n",
              "      <th>48</th>\n",
              "      <td>J060351+215937 (4C+22.12)</td>\n",
              "      <td>06:03:51.56</td>\n",
              "      <td>21:59:37.50</td>\n",
              "      <td>188.07</td>\n",
              "      <td>0.04</td>\n",
              "      <td>2.77</td>\n",
              "      <td>5.15</td>\n",
              "    </tr>\n",
              "    <tr>\n",
              "      <th>49</th>\n",
              "      <td>J062141+143211 (3C158)</td>\n",
              "      <td>06:21:41.09</td>\n",
              "      <td>14:32:11.90</td>\n",
              "      <td>196.64</td>\n",
              "      <td>0.17</td>\n",
              "      <td>2.24</td>\n",
              "      <td>4.86</td>\n",
              "    </tr>\n",
              "    <tr>\n",
              "      <th>50</th>\n",
              "      <td>J063215+102201 (4C+10.20)</td>\n",
              "      <td>06:32:15.34</td>\n",
              "      <td>10:22:01.10</td>\n",
              "      <td>201.53</td>\n",
              "      <td>0.51</td>\n",
              "      <td>2.38</td>\n",
              "      <td>5.00</td>\n",
              "    </tr>\n",
              "    <tr>\n",
              "      <th>51</th>\n",
              "      <td>J062545+144019 (4C+14.18)</td>\n",
              "      <td>06:25:45.97</td>\n",
              "      <td>14:40:19.70</td>\n",
              "      <td>196.98</td>\n",
              "      <td>1.10</td>\n",
              "      <td>2.44</td>\n",
              "      <td>5.01</td>\n",
              "    </tr>\n",
              "    <tr>\n",
              "      <th>52</th>\n",
              "      <td>J064516+053132 (3C167)</td>\n",
              "      <td>06:45:16.84</td>\n",
              "      <td>05:31:32.00</td>\n",
              "      <td>207.31</td>\n",
              "      <td>1.15</td>\n",
              "      <td>1.33</td>\n",
              "      <td>4.76</td>\n",
              "    </tr>\n",
              "    <tr>\n",
              "      <th>53</th>\n",
              "      <td>J053752+361112 (4C+36.10)</td>\n",
              "      <td>05:37:52.39</td>\n",
              "      <td>36:11:13</td>\n",
              "      <td>172.98</td>\n",
              "      <td>2.44</td>\n",
              "      <td>1.04</td>\n",
              "      <td>4.34</td>\n",
              "    </tr>\n",
              "    <tr>\n",
              "      <th>54</th>\n",
              "      <td>J062019+210229</td>\n",
              "      <td>06:20:19.54</td>\n",
              "      <td>21:02:29.70</td>\n",
              "      <td>190.74</td>\n",
              "      <td>2.94</td>\n",
              "      <td>0.90</td>\n",
              "      <td>4.33</td>\n",
              "    </tr>\n",
              "    <tr>\n",
              "      <th>55</th>\n",
              "      <td>J062250+220025 (4C+22.16)</td>\n",
              "      <td>06:22:50.64</td>\n",
              "      <td>22:00:25.60</td>\n",
              "      <td>190.16</td>\n",
              "      <td>3.91</td>\n",
              "      <td>1.06</td>\n",
              "      <td>4.34</td>\n",
              "    </tr>\n",
              "    <tr>\n",
              "      <th>56</th>\n",
              "      <td>J065601+083407 (4C+08.23)</td>\n",
              "      <td>06:56:01.03</td>\n",
              "      <td>08:34:07.10</td>\n",
              "      <td>205.81</td>\n",
              "      <td>4.91</td>\n",
              "      <td>0.68</td>\n",
              "      <td>4.12</td>\n",
              "    </tr>\n",
              "    <tr>\n",
              "      <th>57</th>\n",
              "      <td>J063451+190940</td>\n",
              "      <td>06:34:51.38</td>\n",
              "      <td>19:09:40.90</td>\n",
              "      <td>193.99</td>\n",
              "      <td>5.10</td>\n",
              "      <td>0.84</td>\n",
              "      <td>4.31</td>\n",
              "    </tr>\n",
              "    <tr>\n",
              "      <th>58</th>\n",
              "      <td>J065917+081331</td>\n",
              "      <td>06:59:17.97</td>\n",
              "      <td>08:13:31.80</td>\n",
              "      <td>206.48</td>\n",
              "      <td>5.48</td>\n",
              "      <td>0.91</td>\n",
              "      <td>4.12</td>\n",
              "    </tr>\n",
              "    <tr>\n",
              "      <th>59</th>\n",
              "      <td>J065548+104258 (4C+10.21)</td>\n",
              "      <td>06:55:48.36</td>\n",
              "      <td>10:42:58.80</td>\n",
              "      <td>203.85</td>\n",
              "      <td>5.82</td>\n",
              "      <td>0.91</td>\n",
              "      <td>4.15</td>\n",
              "    </tr>\n",
              "    <tr>\n",
              "      <th>60</th>\n",
              "      <td>J064841+144020 (4C+14.20)</td>\n",
              "      <td>06:48:41.15</td>\n",
              "      <td>14:40:20.60</td>\n",
              "      <td>199.52</td>\n",
              "      <td>6.04</td>\n",
              "      <td>1.03</td>\n",
              "      <td>4.17</td>\n",
              "    </tr>\n",
              "    <tr>\n",
              "      <th>61</th>\n",
              "      <td>J071523+031105 (4C+03.12)</td>\n",
              "      <td>07:15:23.75</td>\n",
              "      <td>03:11:05.00</td>\n",
              "      <td>212.82</td>\n",
              "      <td>6.78</td>\n",
              "      <td>0.67</td>\n",
              "      <td>3.97</td>\n",
              "    </tr>\n",
              "    <tr>\n",
              "      <th>62</th>\n",
              "      <td>J071004+061705 (4C+06.28)</td>\n",
              "      <td>07:10:04.83</td>\n",
              "      <td>06:17:05.40</td>\n",
              "      <td>209.43</td>\n",
              "      <td>7.00</td>\n",
              "      <td>0.58</td>\n",
              "      <td>4.05</td>\n",
              "    </tr>\n",
              "    <tr>\n",
              "      <th>63</th>\n",
              "      <td>J071924+021035</td>\n",
              "      <td>07:19:24.88</td>\n",
              "      <td>02:10:35.80</td>\n",
              "      <td>214.18</td>\n",
              "      <td>7.22</td>\n",
              "      <td>0.66</td>\n",
              "      <td>3.87</td>\n",
              "    </tr>\n",
              "    <tr>\n",
              "      <th>64</th>\n",
              "      <td>J064524+212145 (3C166)</td>\n",
              "      <td>06:45:24.08</td>\n",
              "      <td>21:21:45.70</td>\n",
              "      <td>193.12</td>\n",
              "      <td>8.30</td>\n",
              "      <td>2.59</td>\n",
              "      <td>4.80</td>\n",
              "    </tr>\n",
              "    <tr>\n",
              "      <th>65</th>\n",
              "      <td>J071028+091954 (4C+09.27)</td>\n",
              "      <td>07:10:28.52</td>\n",
              "      <td>09:19:54.30</td>\n",
              "      <td>206.72</td>\n",
              "      <td>8.44</td>\n",
              "      <td>1.02</td>\n",
              "      <td>4.09</td>\n",
              "    </tr>\n",
              "    <tr>\n",
              "      <th>66</th>\n",
              "      <td>J072140+053050 (PKS0719+056)</td>\n",
              "      <td>07:21:40.87</td>\n",
              "      <td>05:30:50.90</td>\n",
              "      <td>211.43</td>\n",
              "      <td>9.23</td>\n",
              "      <td>0.83</td>\n",
              "      <td>4.01</td>\n",
              "    </tr>\n",
              "    <tr>\n",
              "      <th>67</th>\n",
              "      <td>J070001+170922</td>\n",
              "      <td>07:00:01.52</td>\n",
              "      <td>17:09:22.30</td>\n",
              "      <td>198.47</td>\n",
              "      <td>9.58</td>\n",
              "      <td>0.65</td>\n",
              "      <td>4.09</td>\n",
              "    </tr>\n",
              "    <tr>\n",
              "      <th>68</th>\n",
              "      <td>J065937+211742 (4C+21.22)</td>\n",
              "      <td>06:59:37.81</td>\n",
              "      <td>21:17:42.20</td>\n",
              "      <td>194.63</td>\n",
              "      <td>11.26</td>\n",
              "      <td>0.57</td>\n",
              "      <td>3.98</td>\n",
              "    </tr>\n",
              "    <tr>\n",
              "      <th>69</th>\n",
              "      <td>J071404+143620 (3C175.1)</td>\n",
              "      <td>07:14:04.70</td>\n",
              "      <td>14:36:20.90</td>\n",
              "      <td>202.29</td>\n",
              "      <td>11.53</td>\n",
              "      <td>1.93</td>\n",
              "      <td>4.38</td>\n",
              "    </tr>\n",
              "    <tr>\n",
              "      <th>70</th>\n",
              "      <td>J072551+103202 (4C+10.22)</td>\n",
              "      <td>07:25:51.27</td>\n",
              "      <td>10:32:02.30</td>\n",
              "      <td>207.31</td>\n",
              "      <td>12.37</td>\n",
              "      <td>1.23</td>\n",
              "      <td>4.09</td>\n",
              "    </tr>\n",
              "    <tr>\n",
              "      <th>71</th>\n",
              "      <td>J070937+195443 (4C+19.26)</td>\n",
              "      <td>07:09:37.27</td>\n",
              "      <td>19:54:43.00</td>\n",
              "      <td>196.91</td>\n",
              "      <td>12.80</td>\n",
              "      <td>0.69</td>\n",
              "      <td>4.03</td>\n",
              "    </tr>\n",
              "    <tr>\n",
              "      <th>72</th>\n",
              "      <td>J072525+123624 (PKS0722+12)</td>\n",
              "      <td>07:25:25.60</td>\n",
              "      <td>12:36:24.60</td>\n",
              "      <td>205.35</td>\n",
              "      <td>13.17</td>\n",
              "      <td>0.61</td>\n",
              "      <td>3.77</td>\n",
              "    </tr>\n",
              "    <tr>\n",
              "      <th>73</th>\n",
              "      <td>J072832+121010 (4C+12.30)</td>\n",
              "      <td>07:28:32.88</td>\n",
              "      <td>12:10:10.50</td>\n",
              "      <td>206.09</td>\n",
              "      <td>13.67</td>\n",
              "      <td>1.07</td>\n",
              "      <td>3.92</td>\n",
              "    </tr>\n",
              "    <tr>\n",
              "      <th>74</th>\n",
              "      <td>J072516+142513 (4C+14.23)</td>\n",
              "      <td>07:25:16.80</td>\n",
              "      <td>14:25:13.50</td>\n",
              "      <td>203.64</td>\n",
              "      <td>13.91</td>\n",
              "      <td>1.07</td>\n",
              "      <td>3.87</td>\n",
              "    </tr>\n",
              "    <tr>\n",
              "      <th>75</th>\n",
              "      <td>J072810+143736 (3C181)</td>\n",
              "      <td>07:28:10.26</td>\n",
              "      <td>14:37:36.00</td>\n",
              "      <td>203.75</td>\n",
              "      <td>14.63</td>\n",
              "      <td>2.30</td>\n",
              "      <td>4.53</td>\n",
              "    </tr>\n",
              "    <tr>\n",
              "      <th>76</th>\n",
              "      <td>J071810+201002 (PKS0715+20)</td>\n",
              "      <td>07:18:10.64</td>\n",
              "      <td>20:10:02.70</td>\n",
              "      <td>197.52</td>\n",
              "      <td>14.74</td>\n",
              "      <td>0.73</td>\n",
              "      <td>3.98</td>\n",
              "    </tr>\n",
              "    <tr>\n",
              "      <th>77</th>\n",
              "      <td>J073035+151512 (4C+15.20)</td>\n",
              "      <td>07:30:35.41</td>\n",
              "      <td>15:15:12.60</td>\n",
              "      <td>203.42</td>\n",
              "      <td>15.42</td>\n",
              "      <td>1.54</td>\n",
              "      <td>4.23</td>\n",
              "    </tr>\n",
              "    <tr>\n",
              "      <th>78</th>\n",
              "      <td>J073037+173951 (4C+17.41)</td>\n",
              "      <td>07:30:37.09</td>\n",
              "      <td>17:39:51.50</td>\n",
              "      <td>201.13</td>\n",
              "      <td>16.42</td>\n",
              "      <td>0.69</td>\n",
              "      <td>3.94</td>\n",
              "    </tr>\n",
              "  </tbody>\n",
              "</table>\n",
              "</div>"
            ],
            "text/plain": [
              "                                     Source name  ... Tsky (K)\n",
              "0                     J034053+073525 (4C+07.13)   ...     4.07\n",
              "1                   J032153+122114 (PKS0319+12)   ...     4.51\n",
              "2                     J032723+120835 (4C+11.15)   ...     4.17\n",
              "3                     J031857+162833 (4C+16.09)   ...     6.93\n",
              "4                        J033626+130233 (3C090)   ...     4.67\n",
              "5                                J035613+130535   ...     4.14\n",
              "6                        J035900+143622 (3C096)   ...     4.37\n",
              "7                     J042725+085330 (4C+08.15)   ...     4.08\n",
              "8                     J032504+244445 (4C+24.06)   ...     4.13\n",
              "9                     J035633+190034 (4C+18.11)   ...     4.15\n",
              "10                    J041140+171405 (4C+17.23)   ...     4.26\n",
              "11                       J042022+175355 (3C114)   ...     4.23\n",
              "12                    J042524+175525 (4C+17.25)   ...     4.16\n",
              "13                    J042756+175242 (4C+17.26)   ...     4.22\n",
              "14                  J044907+112128 (PKS0446+11)   ...     4.16\n",
              "15                       J034008+320901 (3C092)   ...     3.95\n",
              "16                    J042846+213331 (4C+21.17)   ...     4.35\n",
              "17                    J040442+290215 (4C+28.11)   ...     3.69\n",
              "18                    J052424+074957 (4C+07.16)   ...     4.25\n",
              "19                 J051240+151723 (PKS0509+152)   ...     4.11\n",
              "20                               J053239+073243   ...     4.96\n",
              "21                    J051930+142829 (4C+14.14)   ...     4.15\n",
              "22                    J053450+100430 (4C+09.21)   ...     4.62\n",
              "23                    J041236+353543 (4C+35.07)   ...     3.93\n",
              "24                       J052109+163822 (3C138)   ...     7.59\n",
              "25                 J053056+133155 (PKS0528+134)   ...     4.64\n",
              "26                       J042353+345144 (3C115)   ...     3.88\n",
              "27                    J060536+014512 (4C+01.17)   ...     4.07\n",
              "28                    J045956+270602 (4C+27.14)   ...     3.90\n",
              "29                    J051740+235110 (4C+23.14)   ...     4.32\n",
              "30                       J045323+312924 (3C131)   ...     4.04\n",
              "31                    J053557+175600 (4C+17.33)   ...     4.23\n",
              "32                  J053444+192721 (PKS0531+19)   ...     6.48\n",
              "33                    J054046+172839 (4C+17.34)   ...     4.50\n",
              "34                    J050929+295755 (4C+29.16)   ...     4.03\n",
              "35                               J061900+050630   ...     4.19\n",
              "36                    J062812+010926 (4C+01.19)   ...     4.27\n",
              "37                    J062152+043834 (4C+04.22)   ...     4.35\n",
              "38                    J062551+043540 (4C+04.24)   ...     4.28\n",
              "39                  J053425+273223 (B0531+2730)   ...     4.25\n",
              "40                               J061622+115553   ...     4.41\n",
              "41                    J055955+190852 (4C+19.18)   ...     4.45\n",
              "42                    J060157+192216 (4C+19.19)   ...     4.43\n",
              "43  J060933+162207 (4C+16.15)\\tablenotemark{**}   ...     4.58\n",
              "44                    J061857+133631 (4C+13.32)   ...     4.86\n",
              "45  J054844+263600 (4C+26.18)\\tablenotemark{**}   ...     3.98\n",
              "46                    J054211+290147 (4C+29.19)   ...     4.13\n",
              "47                    J063313+081318 (4C+08.21)   ...     4.46\n",
              "48                    J060351+215937 (4C+22.12)   ...     5.15\n",
              "49                       J062141+143211 (3C158)   ...     4.86\n",
              "50                    J063215+102201 (4C+10.20)   ...     5.00\n",
              "51                    J062545+144019 (4C+14.18)   ...     5.01\n",
              "52                       J064516+053132 (3C167)   ...     4.76\n",
              "53                    J053752+361112 (4C+36.10)   ...     4.34\n",
              "54                               J062019+210229   ...     4.33\n",
              "55                    J062250+220025 (4C+22.16)   ...     4.34\n",
              "56                    J065601+083407 (4C+08.23)   ...     4.12\n",
              "57                               J063451+190940   ...     4.31\n",
              "58                               J065917+081331   ...     4.12\n",
              "59                    J065548+104258 (4C+10.21)   ...     4.15\n",
              "60                    J064841+144020 (4C+14.20)   ...     4.17\n",
              "61                    J071523+031105 (4C+03.12)   ...     3.97\n",
              "62                    J071004+061705 (4C+06.28)   ...     4.05\n",
              "63                               J071924+021035   ...     3.87\n",
              "64                       J064524+212145 (3C166)   ...     4.80\n",
              "65                    J071028+091954 (4C+09.27)   ...     4.09\n",
              "66                 J072140+053050 (PKS0719+056)   ...     4.01\n",
              "67                               J070001+170922   ...     4.09\n",
              "68                    J065937+211742 (4C+21.22)   ...     3.98\n",
              "69                     J071404+143620 (3C175.1)   ...     4.38\n",
              "70                    J072551+103202 (4C+10.22)   ...     4.09\n",
              "71                    J070937+195443 (4C+19.26)   ...     4.03\n",
              "72                  J072525+123624 (PKS0722+12)   ...     3.77\n",
              "73                    J072832+121010 (4C+12.30)   ...     3.92\n",
              "74                    J072516+142513 (4C+14.23)   ...     3.87\n",
              "75                       J072810+143736 (3C181)   ...     4.53\n",
              "76                  J071810+201002 (PKS0715+20)   ...     3.98\n",
              "77                    J073035+151512 (4C+15.20)   ...     4.23\n",
              "78                    J073037+173951 (4C+17.41)   ...     3.94\n",
              "\n",
              "[79 rows x 7 columns]"
            ]
          },
          "metadata": {
            "tags": []
          },
          "execution_count": 10
        }
      ]
    },
    {
      "cell_type": "code",
      "metadata": {
        "colab": {
          "base_uri": "https://localhost:8080/"
        },
        "id": "GM_MuUMMzx2n",
        "outputId": "6b65c9c4-959a-4c53-a650-de69c45491be"
      },
      "source": [
        "# Number of sources, removed 2 sources\n",
        "len(df) - 2"
      ],
      "execution_count": 11,
      "outputs": [
        {
          "output_type": "execute_result",
          "data": {
            "text/plain": [
              "77"
            ]
          },
          "metadata": {
            "tags": []
          },
          "execution_count": 11
        }
      ]
    },
    {
      "cell_type": "markdown",
      "metadata": {
        "id": "Cat5ewn3FK7W"
      },
      "source": [
        "# 5. Read data and plot spectra"
      ]
    },
    {
      "cell_type": "code",
      "metadata": {
        "id": "oeH88DtCFzDE"
      },
      "source": [
        "# Select a source\n",
        "src       = '3C138'\n",
        "file_path = os.path.join( SPECTRA_PATH, src + '.fits' )"
      ],
      "execution_count": 12,
      "outputs": []
    },
    {
      "cell_type": "markdown",
      "metadata": {
        "id": "_YFNgZzP0HxU"
      },
      "source": [
        "Read the data"
      ]
    },
    {
      "cell_type": "code",
      "metadata": {
        "colab": {
          "base_uri": "https://localhost:8080/"
        },
        "id": "kikjFUFxFGHe",
        "outputId": "cbcd50ad-9bca-42b0-cf71-b60a20a1cea2"
      },
      "source": [
        "data, header = fits.getdata(file_path, header=True)\n",
        "for x in header:\n",
        "    print(x, header[x])"
      ],
      "execution_count": 13,
      "outputs": [
        {
          "output_type": "stream",
          "text": [
            "XTENSION BINTABLE\n",
            "BITPIX 8\n",
            "NAXIS 2\n",
            "NAXIS1 88\n",
            "NAXIS2 1118\n",
            "PCOUNT 0\n",
            "GCOUNT 1\n",
            "TFIELDS 11\n",
            "TTYPE1 vlsr_tau\n",
            "TFORM1 D\n",
            "TUNIT1 km/s\n",
            "TTYPE2 emt\n",
            "TFORM2 D\n",
            "TTYPE3 sigemt\n",
            "TFORM3 D\n",
            "TTYPE4 vlsr_fitcnm\n",
            "TFORM4 D\n",
            "TUNIT4 km/s\n",
            "TTYPE5 fitcnm\n",
            "TFORM5 D\n",
            "TTYPE6 vlsr_TB\n",
            "TFORM6 D\n",
            "TUNIT6 km/s\n",
            "TTYPE7 TB\n",
            "TFORM7 D\n",
            "TUNIT7 K\n",
            "TTYPE8 sigTB\n",
            "TFORM8 D\n",
            "TUNIT8 K\n",
            "TTYPE9 TB_tot_fit\n",
            "TFORM9 D\n",
            "TUNIT9 K\n",
            "TTYPE10 TB_WNM_fit\n",
            "TFORM10 D\n",
            "TUNIT10 K\n",
            "TTYPE11 TB_CNM_fit\n",
            "TFORM11 D\n",
            "TUNIT11 K\n"
          ],
          "name": "stdout"
        }
      ]
    },
    {
      "cell_type": "code",
      "metadata": {
        "colab": {
          "base_uri": "https://localhost:8080/"
        },
        "id": "jL5urmasvgt0",
        "outputId": "1e391ca6-c510-4ccb-9e4f-1bd5e17b247b"
      },
      "source": [
        "data.__dict__"
      ],
      "execution_count": 14,
      "outputs": [
        {
          "output_type": "execute_result",
          "data": {
            "text/plain": [
              "{'_character_as_bytes': False,\n",
              " '_col_weakrefs': <_weakrefset.WeakSet at 0x7fb36a2f5fd0>,\n",
              " '_coldefs': ColDefs(\n",
              "     name = 'vlsr_tau'; format = 'D'; unit = 'km/s'\n",
              "     name = 'emt'; format = 'D'\n",
              "     name = 'sigemt'; format = 'D'\n",
              "     name = 'vlsr_fitcnm'; format = 'D'; unit = 'km/s'\n",
              "     name = 'fitcnm'; format = 'D'\n",
              "     name = 'vlsr_TB'; format = 'D'; unit = 'km/s'\n",
              "     name = 'TB'; format = 'D'; unit = 'K'\n",
              "     name = 'sigTB'; format = 'D'; unit = 'K'\n",
              "     name = 'TB_tot_fit'; format = 'D'; unit = 'K'\n",
              "     name = 'TB_WNM_fit'; format = 'D'; unit = 'K'\n",
              "     name = 'TB_CNM_fit'; format = 'D'; unit = 'K'\n",
              " ),\n",
              " '_converted': {},\n",
              " '_gap': 0,\n",
              " '_heapoffset': 98384,\n",
              " '_heapsize': 0,\n",
              " '_nfields': 11,\n",
              " '_uint': True}"
            ]
          },
          "metadata": {
            "tags": []
          },
          "execution_count": 14
        }
      ]
    },
    {
      "cell_type": "code",
      "metadata": {
        "colab": {
          "base_uri": "https://localhost:8080/"
        },
        "id": "b1_71Rrmuect",
        "outputId": "81d8a41c-84e4-4a65-94f5-b564ff17a044"
      },
      "source": [
        "hdr = fits.getheader(file_path)\n",
        "for x in hdr:\n",
        "    print(x, hdr[x])"
      ],
      "execution_count": 15,
      "outputs": [
        {
          "output_type": "stream",
          "text": [
            "SIMPLE True\n",
            "BITPIX 8\n",
            "NAXIS 0\n",
            "EXTEND True\n",
            "V1 -100.0\n",
            "V2 -70.0\n",
            "V3 50.0\n",
            "V4 80.0\n",
            "GLON 187.40518\n",
            "GLAT -11.34306\n",
            "RA50 5.30462\n",
            "DEC50 16.59082\n",
            "NAME 3C138\n",
            "NICKNAME SRC1_T\n",
            "NCNM 7\n",
            "NWNM 3\n",
            "N(HI) 22.57762727624125\n",
            "sig_N(HI) 0.5323630889923695\n",
            "N(HI)_thin 19.80436752445369\n",
            "sig_N(HI)_thin 0.05409405767166584\n",
            "N(HI)_CNM_sum 12.3600589697927\n",
            "sig_N(HI)_CNM_sum 0.3680022641427338\n",
            "N(HI)_WNM_sum 10.21756830644855\n",
            "sig_N(HI)_WNM_sum 0.3846879152083141\n",
            "sigfit_CNM 0.004273500718419046\n",
            "sigfit_WNM 0.4425469101660937\n",
            "FLUX 8.6029\n",
            "TSKY 7.58776171875\n",
            "TSKY_FIT 7.569012594355987\n",
            "EMTNOISE 0.002956991602897381\n",
            "TB_NOISE 0.2100233998072635\n",
            "TELE Arecibo\n",
            "CMT1 Nguyen et al. 2019\n",
            "CMT2 V1 < V2 < V3 < V4 (km/s), VLSR ranges for baseline, the spectral lines in [v2,v3]\n",
            "CMT3 Ra50 [hour]\n",
            "CMT4 emtnoise = Noise level of EMT spectrum [NONE]\n",
            "CMT5 TB_noise = Noise level of T_exp spectrum [K]\n",
            "CMT6 Flux = Flux at 21 cm [Jy]\n",
            "CMT7 Tsky, Tsky_fit are Tsky and Tsky obtained from the fit (Tsky is also considered as a parameter to fit)\n"
          ],
          "name": "stdout"
        }
      ]
    },
    {
      "cell_type": "code",
      "metadata": {
        "colab": {
          "base_uri": "https://localhost:8080/"
        },
        "id": "wlc-4yWowShB",
        "outputId": "ad865704-4409-4fe6-f944-9bbc3948e501"
      },
      "source": [
        "hdr.__dict__"
      ],
      "execution_count": 16,
      "outputs": [
        {
          "output_type": "execute_result",
          "data": {
            "text/plain": [
              "{'_cards': [('SIMPLE', True, 'conforms to FITS standard'),\n",
              "  ('BITPIX', 8, 'array data type'),\n",
              "  ('NAXIS', 0, 'number of array dimensions'),\n",
              "  ('EXTEND', True, ''),\n",
              "  ('V1', -100.0, ''),\n",
              "  ('V2', -70.0, ''),\n",
              "  ('V3', 50.0, ''),\n",
              "  ('V4', 80.0, ''),\n",
              "  ('GLON', 187.40518, ''),\n",
              "  ('GLAT', -11.34306, ''),\n",
              "  ('RA50', 5.30462, ''),\n",
              "  ('DEC50', 16.59082, ''),\n",
              "  ('NAME', '3C138', ''),\n",
              "  ('NICKNAME', 'SRC1_T', ''),\n",
              "  ('NCNM', 7, ''),\n",
              "  ('NWNM', 3, ''),\n",
              "  ('N(HI)', 22.57762727624125, ''),\n",
              "  ('sig_N(HI)', 0.5323630889923695, ''),\n",
              "  ('N(HI)_thin', 19.80436752445369, ''),\n",
              "  ('sig_N(HI)_thin', 0.05409405767166584, ''),\n",
              "  ('N(HI)_CNM_sum', 12.3600589697927, ''),\n",
              "  ('sig_N(HI)_CNM_sum', 0.3680022641427338, ''),\n",
              "  ('N(HI)_WNM_sum', 10.21756830644855, ''),\n",
              "  ('sig_N(HI)_WNM_sum', 0.3846879152083141, ''),\n",
              "  ('sigfit_CNM', 0.004273500718419046, ''),\n",
              "  ('sigfit_WNM', 0.4425469101660937, ''),\n",
              "  ('FLUX', 8.6029, ''),\n",
              "  ('TSKY', 7.58776171875, ''),\n",
              "  ('TSKY_FIT', 7.569012594355987, ''),\n",
              "  ('EMTNOISE', 0.002956991602897381, ''),\n",
              "  ('TB_NOISE', 0.2100233998072635, ''),\n",
              "  ('TELE', 'Arecibo', ''),\n",
              "  ('CMT1', 'Nguyen et al. 2019', ''),\n",
              "  ('CMT2', 'V1 < V2 < V3 < V4 (km/s), VLSR ranges for baseline, the spectral lines in [v2,v3]', ''),\n",
              "  ('CMT3', 'Ra50 [hour]', ''),\n",
              "  ('CMT4', 'emtnoise = Noise level of EMT spectrum [NONE]', ''),\n",
              "  ('CMT5', 'TB_noise = Noise level of T_exp spectrum [K]', ''),\n",
              "  ('CMT6', 'Flux = Flux at 21 cm [Jy]', ''),\n",
              "  ('CMT7', 'Tsky, Tsky_fit are Tsky and Tsky obtained from the fit (Tsky is also considered as a parameter to fit)', '')],\n",
              " '_keyword_indices': defaultdict(list,\n",
              "             {'BITPIX': [1],\n",
              "              'CMT1': [32],\n",
              "              'CMT2': [33],\n",
              "              'CMT3': [34],\n",
              "              'CMT4': [35],\n",
              "              'CMT5': [36],\n",
              "              'CMT6': [37],\n",
              "              'CMT7': [38],\n",
              "              'DEC50': [11],\n",
              "              'EMTNOISE': [29],\n",
              "              'EXTEND': [3],\n",
              "              'FLUX': [26],\n",
              "              'GLAT': [9],\n",
              "              'GLON': [8],\n",
              "              'N(HI)': [16],\n",
              "              'N(HI)_CNM_SUM': [20],\n",
              "              'N(HI)_THIN': [18],\n",
              "              'N(HI)_WNM_SUM': [22],\n",
              "              'NAME': [12],\n",
              "              'NAXIS': [2],\n",
              "              'NCNM': [14],\n",
              "              'NICKNAME': [13],\n",
              "              'NWNM': [15],\n",
              "              'RA50': [10],\n",
              "              'SIGFIT_CNM': [24],\n",
              "              'SIGFIT_WNM': [25],\n",
              "              'SIG_N(HI)': [17],\n",
              "              'SIG_N(HI)_CNM_SUM': [21],\n",
              "              'SIG_N(HI)_THIN': [19],\n",
              "              'SIG_N(HI)_WNM_SUM': [23],\n",
              "              'SIMPLE': [0],\n",
              "              'TB_NOISE': [30],\n",
              "              'TELE': [31],\n",
              "              'TSKY': [27],\n",
              "              'TSKY_FIT': [28],\n",
              "              'V1': [4],\n",
              "              'V2': [5],\n",
              "              'V3': [6],\n",
              "              'V4': [7]}),\n",
              " '_modified': False,\n",
              " '_rvkc_indices': defaultdict(list, {})}"
            ]
          },
          "metadata": {
            "tags": []
          },
          "execution_count": 16
        }
      ]
    },
    {
      "cell_type": "markdown",
      "metadata": {
        "id": "a0g9YA2gwvCu"
      },
      "source": [
        "## 5.1 Information"
      ]
    },
    {
      "cell_type": "markdown",
      "metadata": {
        "id": "zc1wMc_bxM1H"
      },
      "source": [
        "### 5.1.1 For $\\tau$"
      ]
    },
    {
      "cell_type": "code",
      "metadata": {
        "colab": {
          "base_uri": "https://localhost:8080/"
        },
        "id": "nCTgkEwJwyjW",
        "outputId": "e787a20e-90b6-4df6-b111-46e88466486a"
      },
      "source": [
        "# Velocity axis: 'vlsr_tau'; format = 'D'; unit = 'km/s'\n",
        "data['vlsr_tau']"
      ],
      "execution_count": 17,
      "outputs": [
        {
          "output_type": "execute_result",
          "data": {
            "text/plain": [
              "array([ 79.86933482,  79.70830794,  79.54728105, ..., -99.67564164,\n",
              "       -99.83666853, -99.99769541])"
            ]
          },
          "metadata": {
            "tags": []
          },
          "execution_count": 17
        }
      ]
    },
    {
      "cell_type": "code",
      "metadata": {
        "colab": {
          "base_uri": "https://localhost:8080/"
        },
        "id": "E14O4XRzxT5D",
        "outputId": "d82048dd-d18c-4c0f-a4cb-efa9f82a0589"
      },
      "source": [
        "# e(-tau): 'emt'; format = 'D'\n",
        "data['emt']"
      ],
      "execution_count": 18,
      "outputs": [
        {
          "output_type": "execute_result",
          "data": {
            "text/plain": [
              "array([0.99296588, 0.99876756, 0.99741992, ..., 1.00050112, 0.99667971,\n",
              "       1.00140136])"
            ]
          },
          "metadata": {
            "tags": []
          },
          "execution_count": 18
        }
      ]
    },
    {
      "cell_type": "code",
      "metadata": {
        "colab": {
          "base_uri": "https://localhost:8080/"
        },
        "id": "3hSzfm8RxfRG",
        "outputId": "a20bae5b-7b6f-480a-91c1-e889866fe31b"
      },
      "source": [
        "# sigma of e(-tau): 'sigemt'; format = 'D'\n",
        "data['sigemt']"
      ],
      "execution_count": 19,
      "outputs": [
        {
          "output_type": "execute_result",
          "data": {
            "text/plain": [
              "array([0.0040176 , 0.00309521, 0.00439645, ..., 0.00442881, 0.00373374,\n",
              "       0.00295681])"
            ]
          },
          "metadata": {
            "tags": []
          },
          "execution_count": 19
        }
      ]
    },
    {
      "cell_type": "code",
      "metadata": {
        "colab": {
          "base_uri": "https://localhost:8080/"
        },
        "id": "g3ahPvVRxsi9",
        "outputId": "4e25ebc8-4a8f-4a0e-cff9-f988a8beba3d"
      },
      "source": [
        "# Velocity axis of the fit: 'vlsr_fitcnm'; format = 'D'; unit = 'km/s'\n",
        "data['vlsr_fitcnm'] # Same as data['vlsr_tau']"
      ],
      "execution_count": 20,
      "outputs": [
        {
          "output_type": "execute_result",
          "data": {
            "text/plain": [
              "array([ 79.86933482,  79.70830794,  79.54728105, ..., -99.67564164,\n",
              "       -99.83666853, -99.99769541])"
            ]
          },
          "metadata": {
            "tags": []
          },
          "execution_count": 20
        }
      ]
    },
    {
      "cell_type": "code",
      "metadata": {
        "colab": {
          "base_uri": "https://localhost:8080/"
        },
        "id": "VLwGOCZTx_cX",
        "outputId": "b3e4da26-8fac-497d-faa7-d0dee0be3fee"
      },
      "source": [
        "# The fit to the CNM: 'fitcnm'; format = 'D'\n",
        "data['fitcnm']"
      ],
      "execution_count": 21,
      "outputs": [
        {
          "output_type": "execute_result",
          "data": {
            "text/plain": [
              "array([1., 1., 1., ..., 1., 1., 1.])"
            ]
          },
          "metadata": {
            "tags": []
          },
          "execution_count": 21
        }
      ]
    },
    {
      "cell_type": "markdown",
      "metadata": {
        "id": "XiwXf4-GyOuW"
      },
      "source": [
        "### 5.1.2 For $T_\\mathrm{exp} [K]$"
      ]
    },
    {
      "cell_type": "code",
      "metadata": {
        "colab": {
          "base_uri": "https://localhost:8080/"
        },
        "id": "kx5oPX6_yMmQ",
        "outputId": "bf678b28-c182-44e1-d4c4-e86b0ec6cc33"
      },
      "source": [
        "# Velocity axis 'vlsr_TB'; format = 'D'; unit = 'km/s'\n",
        "data['vlsr_TB'] # Same as data['vlsr_tau']"
      ],
      "execution_count": 22,
      "outputs": [
        {
          "output_type": "execute_result",
          "data": {
            "text/plain": [
              "array([ 79.86933482,  79.70830794,  79.54728105, ..., -99.67564164,\n",
              "       -99.83666853, -99.99769541])"
            ]
          },
          "metadata": {
            "tags": []
          },
          "execution_count": 22
        }
      ]
    },
    {
      "cell_type": "code",
      "metadata": {
        "colab": {
          "base_uri": "https://localhost:8080/"
        },
        "id": "noFJAkhwyf8q",
        "outputId": "7d063b2b-642e-4ca2-88c2-c5e0d4f40640"
      },
      "source": [
        "# T_exp: 'TB'; format = 'D'; unit = 'K'\n",
        "data['TB']"
      ],
      "execution_count": 23,
      "outputs": [
        {
          "output_type": "execute_result",
          "data": {
            "text/plain": [
              "array([ 0.43916686, -0.11692797,  0.40419592, ...,  0.01501079,\n",
              "        0.17440877,  0.23447064])"
            ]
          },
          "metadata": {
            "tags": []
          },
          "execution_count": 23
        }
      ]
    },
    {
      "cell_type": "code",
      "metadata": {
        "colab": {
          "base_uri": "https://localhost:8080/"
        },
        "id": "so9JX9GPyl8E",
        "outputId": "98311b5c-1e28-483f-e9e8-399dba1aa283"
      },
      "source": [
        "# Sigma of T_exp: 'sigTB'; format = 'D'; unit = 'K'\n",
        "data['sigTB']"
      ],
      "execution_count": 24,
      "outputs": [
        {
          "output_type": "execute_result",
          "data": {
            "text/plain": [
              "array([0.46904768, 0.3522479 , 0.51634632, ..., 0.52037445, 0.43339965,\n",
              "       0.3344131 ])"
            ]
          },
          "metadata": {
            "tags": []
          },
          "execution_count": 24
        }
      ]
    },
    {
      "cell_type": "code",
      "metadata": {
        "colab": {
          "base_uri": "https://localhost:8080/"
        },
        "id": "zthPk3-NyuQY",
        "outputId": "c65dd21b-146f-4db9-f796-da585ed071f0"
      },
      "source": [
        "# Total fit to T_exp: 'TB_tot_fit'; format = 'D'; unit = 'K'\n",
        "data['TB_tot_fit']"
      ],
      "execution_count": 25,
      "outputs": [
        {
          "output_type": "execute_result",
          "data": {
            "text/plain": [
              "array([4.85500520e-08, 5.25041015e-08, 5.67709950e-08, ...,\n",
              "       2.29393798e-04, 2.19607208e-04, 2.10217035e-04])"
            ]
          },
          "metadata": {
            "tags": []
          },
          "execution_count": 25
        }
      ]
    },
    {
      "cell_type": "code",
      "metadata": {
        "colab": {
          "base_uri": "https://localhost:8080/"
        },
        "id": "xVSr-LzIy22d",
        "outputId": "1caa6e1a-75e4-4b78-c208-2f6f0a0571c6"
      },
      "source": [
        "# Total contribution to T_exp from the WNM: 'TB_WNM_fit'; format = 'D'; unit = 'K'\n",
        "data['TB_WNM_fit']"
      ],
      "execution_count": 26,
      "outputs": [
        {
          "output_type": "execute_result",
          "data": {
            "text/plain": [
              "array([4.85500520e-08, 5.25041015e-08, 5.67709951e-08, ...,\n",
              "       2.29393798e-04, 2.19607208e-04, 2.10217035e-04])"
            ]
          },
          "metadata": {
            "tags": []
          },
          "execution_count": 26
        }
      ]
    },
    {
      "cell_type": "code",
      "metadata": {
        "colab": {
          "base_uri": "https://localhost:8080/"
        },
        "id": "yPWYde1ezAa2",
        "outputId": "559aafec-6092-45a6-fe8e-153002bc0e07"
      },
      "source": [
        "# Total contribution to T_exp from the CNM: 'TB_CNM_fit'; format = 'D'; unit = 'K'\n",
        "data['TB_CNM_fit']"
      ],
      "execution_count": 27,
      "outputs": [
        {
          "output_type": "execute_result",
          "data": {
            "text/plain": [
              "array([0., 0., 0., ..., 0., 0., 0.])"
            ]
          },
          "metadata": {
            "tags": []
          },
          "execution_count": 27
        }
      ]
    },
    {
      "cell_type": "markdown",
      "metadata": {
        "id": "4iM-rbPi5hXc"
      },
      "source": [
        "### 5.1.3 Other infor and Results"
      ]
    },
    {
      "cell_type": "code",
      "metadata": {
        "colab": {
          "base_uri": "https://localhost:8080/"
        },
        "id": "Ajkp59Pi1bW7",
        "outputId": "a87de9a6-8545-4db9-9e7f-f93e355705a0"
      },
      "source": [
        "# V1 < V2 < V3 < V4 (km/s), VLSR ranges for baseline, the spectral lines in [v2,v3], Unit: km/s\n",
        "print( hdr['V1'], hdr['V2'], hdr['V3'], hdr['V4'] )"
      ],
      "execution_count": 28,
      "outputs": [
        {
          "output_type": "stream",
          "text": [
            "-100.0 -70.0 50.0 80.0\n"
          ],
          "name": "stdout"
        }
      ]
    },
    {
      "cell_type": "code",
      "metadata": {
        "colab": {
          "base_uri": "https://localhost:8080/"
        },
        "id": "gt1gjckI1vi1",
        "outputId": "ef145f2d-0714-4c29-f411-a4a11185a488"
      },
      "source": [
        "# Galactic Longitude and lattitude, Unit: Degree\n",
        "print(hdr['GLON'], hdr['GLAT'])"
      ],
      "execution_count": 29,
      "outputs": [
        {
          "output_type": "stream",
          "text": [
            "187.40518 -11.34306\n"
          ],
          "name": "stdout"
        }
      ]
    },
    {
      "cell_type": "code",
      "metadata": {
        "colab": {
          "base_uri": "https://localhost:8080/"
        },
        "id": "f6CkNDOL1-At",
        "outputId": "3ec81f8f-98bd-4449-eb36-77b36a5cbe10"
      },
      "source": [
        "# Right Ascension and Declination, Units: Ra50 [hour], DEC50 [degree]\n",
        "print(hdr['RA50'], hdr['DEC50'])"
      ],
      "execution_count": 30,
      "outputs": [
        {
          "output_type": "stream",
          "text": [
            "5.30462 16.59082\n"
          ],
          "name": "stdout"
        }
      ]
    },
    {
      "cell_type": "code",
      "metadata": {
        "colab": {
          "base_uri": "https://localhost:8080/"
        },
        "id": "dgqEL1Jf2ctT",
        "outputId": "5612a2dd-76b4-411b-ed0c-e8926c32af7d"
      },
      "source": [
        "# Name and nickname of the source\n",
        "print(hdr['NAME'], hdr['NICKNAME'])"
      ],
      "execution_count": 31,
      "outputs": [
        {
          "output_type": "stream",
          "text": [
            "3C138 SRC1_T\n"
          ],
          "name": "stdout"
        }
      ]
    },
    {
      "cell_type": "code",
      "metadata": {
        "colab": {
          "base_uri": "https://localhost:8080/"
        },
        "id": "O9SrmMmh2owV",
        "outputId": "14517c05-3448-4c5b-96eb-82ecbd5c930f"
      },
      "source": [
        "# Numbers of CNM components and WNM components used for the fit\n",
        "print('NCNM: ', hdr['NCNM'])\n",
        "print('NWNM: ', hdr['NWNM'])"
      ],
      "execution_count": 32,
      "outputs": [
        {
          "output_type": "stream",
          "text": [
            "NCNM:  7\n",
            "NWNM:  3\n"
          ],
          "name": "stdout"
        }
      ]
    },
    {
      "cell_type": "code",
      "metadata": {
        "colab": {
          "base_uri": "https://localhost:8080/"
        },
        "id": "pl8awjAq3CYr",
        "outputId": "42bc0f40-7ae9-4036-ceae-af8fb31b45ed"
      },
      "source": [
        "# Result of N(HI): HI column density, Unit: 1e20 [H cm^-2]\n",
        "print('N(HI): ', hdr['N(HI)'])\n",
        "print('sig_N(HI): ', hdr['sig_N(HI)'])"
      ],
      "execution_count": 33,
      "outputs": [
        {
          "output_type": "stream",
          "text": [
            "N(HI):  22.57762727624125\n",
            "sig_N(HI):  0.5323630889923695\n"
          ],
          "name": "stdout"
        }
      ]
    },
    {
      "cell_type": "code",
      "metadata": {
        "colab": {
          "base_uri": "https://localhost:8080/"
        },
        "id": "r33Q2eMV38Ap",
        "outputId": "dbe3d374-95d0-42fd-df8c-5f3c26385f92"
      },
      "source": [
        "# Result of N*(HI): HI column density under optically thin assumption, Unit: 1e20 [H cm^-2]\n",
        "print('N(HI)_thin: ', hdr['N(HI)_thin'])\n",
        "print('sig_N(HI)_thin: ', hdr['sig_N(HI)_thin'])"
      ],
      "execution_count": 34,
      "outputs": [
        {
          "output_type": "stream",
          "text": [
            "N(HI)_thin:  19.80436752445369\n",
            "sig_N(HI)_thin:  0.05409405767166584\n"
          ],
          "name": "stdout"
        }
      ]
    },
    {
      "cell_type": "code",
      "metadata": {
        "colab": {
          "base_uri": "https://localhost:8080/"
        },
        "id": "5A1EA3Tn4PrC",
        "outputId": "14aca809-2838-425c-e8a8-630a6e7c94a3"
      },
      "source": [
        "# Result of N(HI)_CNM_sum: The contribution of CNM to the N(HI), Unit: 1e20 [H cm^-2]\n",
        "print('N(HI)_CNM_sum: ', hdr['N(HI)_CNM_sum'])\n",
        "print('sig_N(HI)_CNM_sum: ', hdr['sig_N(HI)_CNM_sum'])"
      ],
      "execution_count": 35,
      "outputs": [
        {
          "output_type": "stream",
          "text": [
            "N(HI)_CNM_sum:  12.3600589697927\n",
            "sig_N(HI)_CNM_sum:  0.3680022641427338\n"
          ],
          "name": "stdout"
        }
      ]
    },
    {
      "cell_type": "code",
      "metadata": {
        "colab": {
          "base_uri": "https://localhost:8080/"
        },
        "id": "iX1h_DhR4iKG",
        "outputId": "387c0854-ae80-4b28-aa97-a3f90c8f0a10"
      },
      "source": [
        "# Result of N(HI)_WNM_sum: The contribution of WNM to the N(HI), Unit: 1e20 [H cm^-2]\n",
        "print('N(HI)_WNM_sum: ', hdr['N(HI)_WNM_sum'])\n",
        "print('sig_N(HI)_WNM_sum: ', hdr['sig_N(HI)_WNM_sum'])"
      ],
      "execution_count": 36,
      "outputs": [
        {
          "output_type": "stream",
          "text": [
            "N(HI)_WNM_sum:  10.21756830644855\n",
            "sig_N(HI)_WNM_sum:  0.3846879152083141\n"
          ],
          "name": "stdout"
        }
      ]
    },
    {
      "cell_type": "code",
      "metadata": {
        "colab": {
          "base_uri": "https://localhost:8080/"
        },
        "id": "Jk1xmrKc40cC",
        "outputId": "b0d0fdb6-5fee-4292-b403-b5bdacb439b1"
      },
      "source": [
        "# Flux at 21 cm [Jy]\n",
        "hdr['FLUX']"
      ],
      "execution_count": 37,
      "outputs": [
        {
          "output_type": "execute_result",
          "data": {
            "text/plain": [
              "8.6029"
            ]
          },
          "metadata": {
            "tags": []
          },
          "execution_count": 37
        }
      ]
    },
    {
      "cell_type": "code",
      "metadata": {
        "colab": {
          "base_uri": "https://localhost:8080/"
        },
        "id": "lMx9VdRj4_MP",
        "outputId": "c60669f4-4379-493e-a873-3a45e40936b9"
      },
      "source": [
        "# Tsky [K], Tsky_fit [K] are Tsky and Tsky obtained from the fit (Tsky is also considered as a parameter to fit)\n",
        "print('T_SKY: ', hdr['TSKY'])\n",
        "print('T_SKY_FIT: ',  hdr['TSKY_FIT'])"
      ],
      "execution_count": 38,
      "outputs": [
        {
          "output_type": "stream",
          "text": [
            "T_SKY:  7.58776171875\n",
            "T_SKY_FIT:  7.569012594355987\n"
          ],
          "name": "stdout"
        }
      ]
    },
    {
      "cell_type": "markdown",
      "metadata": {
        "id": "tqUkmKxmGDgL"
      },
      "source": [
        "## 5.2 Plot absorption spectrum"
      ]
    },
    {
      "cell_type": "code",
      "metadata": {
        "id": "KhHRHRUG7IKe"
      },
      "source": [
        "# e(-tau)\n",
        "vlsr         = data['vlsr_tau']\n",
        "emt          = data['emt']\n",
        "sigemt       = data['sigemt']\n",
        "\n",
        "xfitcnm      = data['vlsr_fitcnm']\n",
        "gfitcnm      = data['fitcnm']\n",
        "gresid1      = emt - gfitcnm\n",
        "\n",
        "# T_exp\n",
        "vlsr         = data['vlsr_TB']\n",
        "te           = data['TB']\n",
        "sigtexp      = data['sigTB']\n",
        "\n",
        "gtb_tot_fit = data['TB_tot_fit']\n",
        "gtb_wnm_tot = data['TB_WNM_fit']\n",
        "gtb_cnm_tot = data['TB_CNM_fit']\n",
        "gresid2     = te - gtb_tot_fit"
      ],
      "execution_count": 39,
      "outputs": []
    },
    {
      "cell_type": "code",
      "metadata": {
        "colab": {
          "base_uri": "https://localhost:8080/",
          "height": 630
        },
        "id": "OAO3Lxj3GCfS",
        "outputId": "c00d6f7f-62b4-4920-b620-0593658a914f"
      },
      "source": [
        "plt.figure(figsize=(10,10))\n",
        "\n",
        "plt.title( src, size=18 )\n",
        "plt.xlabel( 'VLSR [km/s]', size=16 )\n",
        "plt.ylabel( r'e$^{-\\tau}$', size=16)\n",
        "\n",
        "plt.plot(vlsr, emt)\n",
        "plt.show()"
      ],
      "execution_count": 40,
      "outputs": [
        {
          "output_type": "display_data",
          "data": {
            "image/png": "[encoded data removed]",
            "text/plain": [
              "<Figure size 720x720 with 1 Axes>"
            ]
          },
          "metadata": {
            "tags": [],
            "needs_background": "light"
          }
        }
      ]
    },
    {
      "cell_type": "markdown",
      "metadata": {
        "id": "FsDEBzi-0fYF"
      },
      "source": [
        "## 5.3 Plot emission spectrum"
      ]
    },
    {
      "cell_type": "code",
      "metadata": {
        "colab": {
          "base_uri": "https://localhost:8080/",
          "height": 630
        },
        "id": "3uEOaL6q0adv",
        "outputId": "ec3c797b-2d5d-42a9-e935-2055126888ef"
      },
      "source": [
        "plt.figure(figsize=(10,10))\n",
        "\n",
        "plt.title( src, size=18 )\n",
        "plt.xlabel( 'VLSR [km/s]', size=16 )\n",
        "plt.ylabel( r'T$_{exp} [K$', size=16)\n",
        "\n",
        "plt.plot(data['vlsr_TB'], data['TB'])\n",
        "plt.show()"
      ],
      "execution_count": 41,
      "outputs": [
        {
          "output_type": "display_data",
          "data": {
            "image/png": "[encoded data removed]",
            "text/plain": [
              "<Figure size 720x720 with 1 Axes>"
            ]
          },
          "metadata": {
            "tags": [],
            "needs_background": "light"
          }
        }
      ]
    },
    {
      "cell_type": "markdown",
      "metadata": {
        "id": "xxzilZRvHNcJ"
      },
      "source": [
        "## 5.4 Plot CNM components"
      ]
    },
    {
      "cell_type": "code",
      "metadata": {
        "id": "ljrY3F6UHR01"
      },
      "source": [
        "## Multiple (N) Gaussians + offset. ##\n",
        " #\n",
        " # params list  v    VLSR\n",
        " # params float zr   estimated constant zero offset of the data points.\n",
        " # params list  h    the array of N estimated heights of the Gaussians.\n",
        " # params list  v0   the array of N estimated centers of the Gaussians.\n",
        " # params list  w    the array of N estimated halfwidths of the Gaussians.\n",
        " #\n",
        " # return 1-D-array  tf  The calculated points.\n",
        " #\n",
        " # version 01/2017\n",
        " # author Nguyen Van Hiep ##\n",
        "def gfunc(v, zr, h, v0, w):\n",
        "  dp600 = np.float64(0.60056120)\n",
        "\n",
        "  if(np.isscalar(v)):\n",
        "    v  = np.array([v], dtype='float64')\n",
        "\n",
        "  if(np.isscalar(h)):\n",
        "    h  = np.array([h], dtype='float64')\n",
        "\n",
        "  if(np.isscalar(v0)):\n",
        "    v0 = np.array([v0], dtype='float64')\n",
        "\n",
        "  if(np.isscalar(w)):\n",
        "    w  = np.array([w], dtype='float64')\n",
        "\n",
        "  #DETERMINE NR OF GAUSSIANS...\n",
        "  ng = len(h)\n",
        "\n",
        "  ret = 0.*v + zr\n",
        "  for i in range(ng):\n",
        "    if (w[i] > 0.):\n",
        "      ret = ret + h[i]*np.exp(- ( (v-v0[i])/(dp600*w[i]))**2)\n",
        "\n",
        "  return ret"
      ],
      "execution_count": 42,
      "outputs": []
    },
    {
      "cell_type": "code",
      "metadata": {
        "colab": {
          "base_uri": "https://localhost:8080/"
        },
        "id": "MgbJW1igIh0Y",
        "outputId": "22ae542f-907c-41b1-f211-3164762b989a"
      },
      "source": [
        "## READ CNM Gaussian components for all sources\n",
        "data_cnm, header_cnm = fits.getdata(CNM_params, header=True)\n",
        "for x in header_cnm:\n",
        "    print (x, header_cnm[x])"
      ],
      "execution_count": 43,
      "outputs": [
        {
          "output_type": "stream",
          "text": [
            "XTENSION BINTABLE\n",
            "BITPIX 8\n",
            "NAXIS 2\n",
            "NAXIS1 158\n",
            "NAXIS2 349\n",
            "PCOUNT 0\n",
            "GCOUNT 1\n",
            "TFIELDS 15\n",
            "TTYPE1 NAME\n",
            "TFORM1 30A\n",
            "TTYPE2 NICKNAME\n",
            "TFORM2 30A\n",
            "TTYPE3 TAU0\n",
            "TFORM3 D\n",
            "TTYPE4 SIG_TAU0\n",
            "TFORM4 D\n",
            "TTYPE5 FWHM0\n",
            "TFORM5 D\n",
            "TUNIT5 km/s\n",
            "TTYPE6 SIG_FWHM0\n",
            "TFORM6 D\n",
            "TUNIT6 km/s\n",
            "TTYPE7 VCEN\n",
            "TFORM7 D\n",
            "TUNIT7 km/s\n",
            "TTYPE8 SIG_VCEN\n",
            "TFORM8 D\n",
            "TUNIT8 km/s\n",
            "TTYPE9 Ts\n",
            "TFORM9 D\n",
            "TUNIT9 K\n",
            "TTYPE10 SIG_Ts\n",
            "TFORM10 D\n",
            "TUNIT10 K\n",
            "TTYPE11 ORDER\n",
            "TFORM11 I\n",
            "TTYPE12 N(HI)_CNM_CPNTS\n",
            "TFORM12 D\n",
            "TUNIT12 1e20 cm-2\n",
            "TTYPE13 SIG_N(HI)_CNM_CPNTS\n",
            "TFORM13 D\n",
            "TUNIT13 1e20 cm-2\n",
            "TTYPE14 TKMAX\n",
            "TFORM14 D\n",
            "TUNIT14 K\n",
            "TTYPE15 SIG_TKMAX\n",
            "TFORM15 D\n",
            "TUNIT15 K\n"
          ],
          "name": "stdout"
        }
      ]
    },
    {
      "cell_type": "code",
      "metadata": {
        "colab": {
          "base_uri": "https://localhost:8080/"
        },
        "id": "XudiiMn76bDt",
        "outputId": "99e926a2-b4c5-4ffe-eb7a-b9126ca927a1"
      },
      "source": [
        "hdr_cnm = fits.getheader(CNM_params)\n",
        "hdr_cnm.__dict__"
      ],
      "execution_count": 44,
      "outputs": [
        {
          "output_type": "execute_result",
          "data": {
            "text/plain": [
              "{'_cards': [('SIMPLE', True, 'conforms to FITS standard'),\n",
              "  ('BITPIX', 8, 'array data type'),\n",
              "  ('NAXIS', 0, 'number of array dimensions'),\n",
              "  ('EXTEND', True, ''),\n",
              "  ('TELE', 'Arecibo', ''),\n",
              "  ('CMT1', 'Nguyen et al. 2019', ''),\n",
              "  ('CMT2', 'N(HI)_CNM_CPNTS and SIG_N(HI)_CNM_CPNTS are N(HI) and its error for each CNM component', '')],\n",
              " '_keyword_indices': defaultdict(list,\n",
              "             {'BITPIX': [1],\n",
              "              'CMT1': [5],\n",
              "              'CMT2': [6],\n",
              "              'EXTEND': [3],\n",
              "              'NAXIS': [2],\n",
              "              'SIMPLE': [0],\n",
              "              'TELE': [4]}),\n",
              " '_modified': False,\n",
              " '_rvkc_indices': defaultdict(list, {})}"
            ]
          },
          "metadata": {
            "tags": []
          },
          "execution_count": 44
        }
      ]
    },
    {
      "cell_type": "code",
      "metadata": {
        "id": "Kc9azrOV6qdv"
      },
      "source": [
        "srcname = data_cnm['NAME']\n",
        "idx     = np.where( srcname == src)[0]\n",
        "ghgtc   = data_cnm['TAU0'][idx]\n",
        "gcenc   = data_cnm['VCEN'][idx]\n",
        "gwidc   = data_cnm['FWHM0'][idx]"
      ],
      "execution_count": 45,
      "outputs": []
    },
    {
      "cell_type": "code",
      "metadata": {
        "colab": {
          "base_uri": "https://localhost:8080/",
          "height": 671
        },
        "id": "Gb3IPZ9zI42D",
        "outputId": "90aff426-dec2-451e-a258-3064ac7be182"
      },
      "source": [
        "## Plot Figure\n",
        "fts  = 36\n",
        "lbsz = 16\n",
        "lgds = 14\n",
        "\n",
        "xlim     = [-65., 40.]\n",
        "ylime    = [-3., 63.]\n",
        "ylimeres = [-3., 3.5]\n",
        "ylima    = [0.3, 1.03]\n",
        "ylimares = [-0.028, 0.025]\n",
        "\n",
        "plt.rc('font', weight='bold')\n",
        "# plt.rc('text', usetex=True)    # uncomment this to make better figure, need to install latex for python\n",
        "plt.rc('xtick', labelsize=15)\n",
        "# plt.rcParams['text.latex.preamble'] = [r'\\usepackage{sfmath} \\boldmath'] # uncomment this to make better figure, need to install latex for python\n",
        "mpl.rcParams['axes.linewidth']      = 2.\n",
        "\n",
        "## Figures\n",
        "fig, ax = plt.subplots(nrows=1, ncols=1, figsize=(14,10), sharey=False, sharex=False)\n",
        "\n",
        "## Absorption\n",
        "major_xticks = np.arange(-100., 100., 25.)\n",
        "minor_xticks = np.arange(-100., 100., 5.)\n",
        "major_yticks = np.arange(0.2, 1.2, 0.1)\n",
        "minor_yticks = np.arange(0.2, 1.2, 0.05)\n",
        "\n",
        "ax.plot(vlsr, emt, 'k-', label=r'$e^{-\\tau}$')\n",
        "ax.plot(xfitcnm, gfitcnm, 'r-', label='$Total\\ fit$')\n",
        "\n",
        "divider = make_axes_locatable(ax)\n",
        "axres   = divider.append_axes('top', size='25%', pad=0, sharex=ax)\n",
        "ax.figure.add_axes(axres)\n",
        "\n",
        "for ceni,hgti,widi in zip(gcenc, ghgtc, gwidc):\n",
        "    ax.plot( vlsr, np.exp(-gfunc(vlsr, 0., [hgti], [ceni], [widi]) ), 'k:', label='')\n",
        "\n",
        "ax.plot(-100., 1., color='k', ls=':', lw=1, label='$CNM\\ components$')\n",
        "# ax.fill_between(vlsr, emt-sigemt, emt+sigemt, color='gray', label='')\n",
        "\n",
        "ax.set_ylabel(r'$e^{-\\tau}$', fontsize = 18)\n",
        "ax.set_xlabel(r'$VLSR\\ [km\\ s^{-1}]$', fontsize = 16)\n",
        "\n",
        "ax.set_yticks(major_yticks)\n",
        "ax.set_yticks(minor_yticks, minor=True)\n",
        "ax.set_xticks(major_xticks)\n",
        "ax.set_xticks(minor_xticks, minor=True)\n",
        "ax.tick_params(axis='x', labelsize=lbsz, pad=8)\n",
        "ax.tick_params(axis='y', labelsize=lbsz)\n",
        "ax.tick_params(which='both', width=2)\n",
        "ax.tick_params(which='major', length=6)\n",
        "ax.tick_params(which='minor', length=3)\n",
        "ax.legend(loc='lower left', fontsize=lgds)\n",
        "ax.spines['top'].set_visible(False)\n",
        "ax.tick_params(axis='x',  which='both', bottom=True, top=False, labeltop=False)\n",
        "ax.axhline(y=ylima[1], xmin=-100, xmax=100, c='k', ls='-.', linewidth=2)\n",
        "\n",
        "ax.set_xlim(xlim)\n",
        "ax.set_ylim(ylima)\n",
        "\n",
        "# Axe - residuals\n",
        "major_yticks = np.arange(-0.06, 0.06, 0.02)\n",
        "minor_yticks = np.arange(-0.06, 0.06, 0.01)\n",
        "axres.plot(vlsr, -sigemt, color='k', ls=':', lw=1, label='')\n",
        "axres.plot(vlsr, sigemt, color='k', ls=':', lw=1, label='')\n",
        "axres.plot(xfitcnm, gresid1, color='k', ls='-', label='$Residuals$')\n",
        "\n",
        "axres.set_ylabel(r'$\\mathrm{Residuals}$', fontsize = 16)\n",
        "axres.set_yticks(major_yticks)\n",
        "axres.set_yticks(minor_yticks, minor=True)\n",
        "axres.set_xticks(major_xticks)\n",
        "axres.set_xticks(minor_xticks, minor=True)\n",
        "axres.tick_params(axis='x',  which='both', bottom=False, top=True, labelbottom=False)\n",
        "axres.tick_params(which='both', width=2)\n",
        "axres.tick_params(which='major', length=6)\n",
        "axres.tick_params(which='minor', length=3)\n",
        "axres.grid(False)\n",
        "axres.spines['bottom'].set_visible(False)\n",
        "axres.set_xlim(xlim)\n",
        "axres.set_ylim(ylimares)\n",
        "# plt.savefig(src+'.png', bbox_inches='tight', pad_inches=0.09, format='png', dpi=60)\n",
        "plt.show()"
      ],
      "execution_count": 46,
      "outputs": [
        {
          "output_type": "stream",
          "text": [
            "/usr/local/lib/python3.7/dist-packages/ipykernel_launcher.py:32: MatplotlibDeprecationWarning: Adding an axes using the same arguments as a previous axes currently reuses the earlier instance.  In a future version, a new instance will always be created and returned.  Meanwhile, this warning can be suppressed, and the future behavior ensured, by passing a unique label to each axes instance.\n"
          ],
          "name": "stderr"
        },
        {
          "output_type": "display_data",
          "data": {
            "image/png": "[encoded data removed]",
            "text/plain": [
              "<Figure size 1008x720 with 2 Axes>"
            ]
          },
          "metadata": {
            "tags": [],
            "needs_background": "light"
          }
        }
      ]
    },
    {
      "cell_type": "markdown",
      "metadata": {
        "id": "IBI0XFRNLI6I"
      },
      "source": [
        "## 5.5 Plot WNM components"
      ]
    },
    {
      "cell_type": "code",
      "metadata": {
        "colab": {
          "base_uri": "https://localhost:8080/"
        },
        "id": "VTbtUpZ_LLSH",
        "outputId": "a50be556-e0dc-487d-b84f-0dfeaa017738"
      },
      "source": [
        "## READ WNM components for all sources\n",
        "data_wnm, header_wnm = fits.getdata(WNM_params, header=True)\n",
        "for x in header_wnm:\n",
        "    print(x, header_wnm[x])\n",
        "\n",
        "srcname = data_wnm['NAME']\n",
        "idx     = np.where( srcname == src)[0]\n",
        "ghgtw   = data_wnm['HGT'][idx]\n",
        "gcenw   = data_wnm['VCEN'][idx]\n",
        "gwidw   = data_wnm['FWHM0'][idx]\n",
        "fwnm    = data_wnm['FWNM'][idx]"
      ],
      "execution_count": 47,
      "outputs": [
        {
          "output_type": "stream",
          "text": [
            "XTENSION BINTABLE\n",
            "BITPIX 8\n",
            "NAXIS 2\n",
            "NAXIS1 156\n",
            "NAXIS2 327\n",
            "PCOUNT 0\n",
            "GCOUNT 1\n",
            "TFIELDS 14\n",
            "TTYPE1 NAME\n",
            "TFORM1 30A\n",
            "TTYPE2 NICKNAME\n",
            "TFORM2 30A\n",
            "TTYPE3 HGT\n",
            "TFORM3 D\n",
            "TTYPE4 SIG_HGT\n",
            "TFORM4 D\n",
            "TTYPE5 FWHM0\n",
            "TFORM5 D\n",
            "TUNIT5 km/s\n",
            "TTYPE6 SIG_FWHM0\n",
            "TFORM6 D\n",
            "TUNIT6 km/s\n",
            "TTYPE7 VCEN\n",
            "TFORM7 D\n",
            "TUNIT7 km/s\n",
            "TTYPE8 SIG_VCEN\n",
            "TFORM8 D\n",
            "TUNIT8 km/s\n",
            "TTYPE9 FWNM\n",
            "TFORM9 D\n",
            "TUNIT9 K\n",
            "TTYPE10 SIG_FWNM\n",
            "TFORM10 D\n",
            "TUNIT10 K\n",
            "TTYPE11 N(HI)_WNM_CPNTS\n",
            "TFORM11 D\n",
            "TUNIT11 1e20 cm-2\n",
            "TTYPE12 SIG_N(HI)_WNM_CPNTS\n",
            "TFORM12 D\n",
            "TUNIT12 1e20 cm-2\n",
            "TTYPE13 TKMAX\n",
            "TFORM13 D\n",
            "TUNIT13 K\n",
            "TTYPE14 SIG_TKMAX\n",
            "TFORM14 D\n",
            "TUNIT14 K\n"
          ],
          "name": "stdout"
        }
      ]
    },
    {
      "cell_type": "code",
      "metadata": {
        "colab": {
          "base_uri": "https://localhost:8080/"
        },
        "id": "Q2W_VdRQ7qVU",
        "outputId": "df47efc2-9ecc-4b5a-d359-1277277f4b22"
      },
      "source": [
        "hdr_wnm = fits.getheader(WNM_params)\n",
        "for x in hdr_wnm:\n",
        "    print(x, hdr_wnm[x])"
      ],
      "execution_count": 48,
      "outputs": [
        {
          "output_type": "stream",
          "text": [
            "SIMPLE True\n",
            "BITPIX 8\n",
            "NAXIS 0\n",
            "EXTEND True\n",
            "TELE Arecibo\n",
            "CMT1 Nguyen et al. 2019\n",
            "CMT2 N(HI)_WNM_CPNTS and SIG_N(HI)_WNM_CPNTS are N(HI) and its error for each CNM component\n"
          ],
          "name": "stdout"
        }
      ]
    },
    {
      "cell_type": "code",
      "metadata": {
        "colab": {
          "base_uri": "https://localhost:8080/",
          "height": 636
        },
        "id": "1IHi2oGlMC-O",
        "outputId": "fe528740-e75c-4fb2-ec56-f507aee892f1"
      },
      "source": [
        "# Plot\n",
        "# Fontsize and limits of the axes\n",
        "fts  = 36\n",
        "lbsz = 16\n",
        "lgds = 14\n",
        "\n",
        "xlim     = [-65., 40.]\n",
        "ylime    = [-3., 63.]\n",
        "ylimeres = [-3., 3.5]\n",
        "ylima    = [0.3, 1.03]\n",
        "ylimares = [-0.028, 0.025]\n",
        "\n",
        "plt.rc('font', weight='bold')\n",
        "# plt.rc('text', usetex=True)                                                 # uncomment this to make better figure, need to install latex for python\n",
        "plt.rc('xtick', labelsize=15)\n",
        "# plt.rcParams['text.latex.preamble'] = [r'\\usepackage{sfmath} \\boldmath']    # uncomment this to make better figure, need to install latex for python\n",
        "mpl.rcParams['axes.linewidth']      = 2.\n",
        "\n",
        "## Figures\n",
        "fig, ax = plt.subplots(nrows=1, ncols=1, figsize=(14,10), sharey=False, sharex=False)\n",
        "\n",
        "## Emission\n",
        "major_xticks = np.arange(-100., 100., 25.)\n",
        "minor_xticks = np.arange(-100., 100., 5.)\n",
        "major_yticks = np.arange(-20., 100., 10.)\n",
        "minor_yticks = np.arange(-20., 100., 5.)\n",
        "\n",
        "divider = make_axes_locatable(ax)\n",
        "axres   = divider.append_axes('bottom', size='25%', pad=0, sharex=ax)\n",
        "ax.figure.add_axes(axres)\n",
        "# axres.spines['bottom'].set_visible(False)\n",
        "\n",
        "ax.plot(vlsr, te, 'k-', lw=1.2, label=r'$T_{exp}$')\n",
        "ax.plot(vlsr, gtb_tot_fit, 'r-', label=r'$Total\\ fit$')\n",
        "ax.plot(vlsr, gtb_wnm_tot, color='violet', ls='-', zorder=-1, label=r'$Total\\ WNM\\ fit$')\n",
        "ax.plot(vlsr, gtb_cnm_tot, color='b', ls='-', zorder=-1, label=r'$Total\\ CNM\\ fit$')\n",
        "# ax.fill_between(vlsr, te-sigtexp, te+sigtexp, color='gray', label=r'')\n",
        "ax.plot(-100., 0., color='k', ls=':', lw=1, label='$WNM\\ components$')\n",
        "\n",
        "for ceni, hgti, widi in zip(gcenw, ghgtw, gwidw):\n",
        "    ax.plot( vlsr, gfunc(vlsr, 0., [hgti], [ceni], [widi]), 'k:', label='')\n",
        "\n",
        "ax.set_title('$'+src+': Gaussian$', fontsize=16)\n",
        "ax.set_ylabel(r'$\\mathrm{T_{exp}\\ [K]}$', fontsize = 16)\n",
        "\n",
        "ax.set_yticks(major_yticks)\n",
        "ax.set_yticks(minor_yticks, minor=True)\n",
        "ax.set_xticks(major_xticks)\n",
        "ax.set_xticks(minor_xticks, minor=True)\n",
        "ax.tick_params(which='y', width=2)\n",
        "ax.tick_params(which='major', length=6)\n",
        "ax.tick_params(which='minor', length=3)\n",
        "# ax.tick_params(axis='x', labelsize=lbsz, pad=8, bottom=False, labelbottom=False)\n",
        "ax.tick_params(axis='y', labelsize=lbsz)\n",
        "ax.tick_params(axis='x',  which='both', bottom=False, top=True, labelbottom=False)\n",
        "ax.grid(False)\n",
        "ax.set_xticks([])\n",
        "ax.spines['bottom'].set_visible(False)\n",
        "\n",
        "ax.set_xlim(xlim)\n",
        "ax.set_ylim(ylime)\n",
        "ax.legend(loc='upper left', fontsize=lgds)\n",
        "\n",
        "\n",
        "# Axe - residuals\n",
        "major_xticks = np.arange(-100., 100., 25.)\n",
        "minor_xticks = np.arange(-100., 100., 5.)\n",
        "major_yticks = np.arange(-6., 6., 2.)\n",
        "minor_yticks = np.arange(-6., 6., 1.)\n",
        "axres.plot(vlsr, -sigtexp, color='k', ls=':', lw=1, label='')\n",
        "axres.plot(vlsr, sigtexp, color='k', ls=':', lw=1, label='')\n",
        "axres.plot(vlsr, gresid2, color='k', ls='-', label='$Residuals$')\n",
        "\n",
        "axres.set_ylabel(r'$\\mathrm{Residuals}$', fontsize = 16)\n",
        "axres.set_yticks(major_yticks)\n",
        "axres.set_yticks(minor_yticks, minor=True)\n",
        "axres.set_xticks(major_xticks)\n",
        "axres.set_xticks(minor_xticks, minor=True)\n",
        "axres.tick_params(axis='x',  which='both', bottom=True, top=False, labelbottom=False)\n",
        "axres.tick_params(which='both', width=2)\n",
        "axres.tick_params(which='major', length=6)\n",
        "axres.tick_params(which='minor', length=3)\n",
        "axres.grid(False)\n",
        "axres.spines['top'].set_visible(False) #axres.spines['top'].set_linewidth(0.5)\n",
        "axres.axhline(y=ylimeres[1], xmin=-100, xmax=100, c='k', ls='-.', linewidth=2)\n",
        "axres.set_xlim(xlim)\n",
        "axres.set_ylim(ylimeres)\n",
        "# plt.savefig(src+'_Texp.png', bbox_inches='tight', pad_inches=0.09, format='png', dpi=60)\n",
        "plt.show()"
      ],
      "execution_count": 49,
      "outputs": [
        {
          "output_type": "stream",
          "text": [
            "/usr/local/lib/python3.7/dist-packages/ipykernel_launcher.py:29: MatplotlibDeprecationWarning: Adding an axes using the same arguments as a previous axes currently reuses the earlier instance.  In a future version, a new instance will always be created and returned.  Meanwhile, this warning can be suppressed, and the future behavior ensured, by passing a unique label to each axes instance.\n"
          ],
          "name": "stderr"
        },
        {
          "output_type": "display_data",
          "data": {
            "image/png": "[encoded data removed]",
            "text/plain": [
              "<Figure size 1008x720 with 2 Axes>"
            ]
          },
          "metadata": {
            "tags": [],
            "needs_background": "light"
          }
        }
      ]
    },
    {
      "cell_type": "markdown",
      "metadata": {
        "id": "jik0VxmR8Ttf"
      },
      "source": [
        "## 5.6 Plot both CNM and WNM"
      ]
    },
    {
      "cell_type": "code",
      "metadata": {
        "colab": {
          "base_uri": "https://localhost:8080/",
          "height": 754
        },
        "id": "Ao3WP8n2B9rA",
        "outputId": "38620207-127f-446b-bea5-3d2a32015dba"
      },
      "source": [
        "# Fontsize and limits of the axes\n",
        "fts      = 36\n",
        "lbsz     = 16\n",
        "lgds     = 14\n",
        "\n",
        "xlim     = [-65., 40.]\n",
        "ylime    = [-3., 63.]\n",
        "ylimeres = [-3., 3.5]\n",
        "ylima    = [0.3, 1.03]\n",
        "ylimares = [-0.028, 0.025]\n",
        "\n",
        "plt.rc('font', weight='bold')\n",
        "# plt.rc('text', usetex=True)\n",
        "plt.rc('xtick', labelsize=15)\n",
        "# plt.rcParams['text.latex.preamble'] = [r'\\usepackage{sfmath} \\boldmath']\n",
        "mpl.rcParams['axes.linewidth']      = 2.\n",
        "\n",
        "\n",
        "\n",
        "## Figures - subplots\n",
        "fig, ax1 = plt.subplots(nrows=2, ncols=1, figsize=(9,11), sharey=False, sharex=True)\n",
        "\n",
        "\n",
        "\n",
        "## Emission\n",
        "# major_xticks = np.arange(-100., 100., 25.)\n",
        "# minor_xticks = np.arange(-100., 100., 5.)\n",
        "major_yticks = np.arange(-20., 100., 10.)\n",
        "minor_yticks = np.arange(-20., 100., 5.)\n",
        "\n",
        "## Add one subplot in this panel for residuals\n",
        "divider = make_axes_locatable(ax1[0])\n",
        "axres   = divider.append_axes('bottom', size='25%', pad=0, sharex=ax1[0])\n",
        "ax1[0].figure.add_axes(axres)\n",
        "# axres.spines['bottom'].set_visible(False)\n",
        "\n",
        "## Plot EM profile\n",
        "ax1[0].plot(vlsr, te, 'k-', lw=1.2, label=r'$T_{exp}$')\n",
        "ax1[0].plot(vlsr, gtb_tot_fit, 'r-', label=r'$Total\\ fit$')\n",
        "ax1[0].plot(vlsr, gtb_wnm_tot, color='violet', ls='-', zorder=-1, label=r'$Total\\ WNM\\ fit$')\n",
        "ax1[0].plot(vlsr, gtb_cnm_tot, color='b', ls='-', zorder=-1, label=r'$Total\\ CNM\\ fit$')\n",
        "# ax1[0].fill_between(vlsr, te-sigtexp, te+sigtexp, color='gray', label=r'')\n",
        "ax1[0].plot(-100., 0., color='k', ls=':', lw=1, label='$WNM\\ components$')\n",
        "\n",
        "\n",
        "## Plot fitted components\n",
        "for ceni, hgti, widi in zip(gcenw, ghgtw, gwidw):\n",
        "  ax1[0].plot( vlsr, gfunc(vlsr, 0., [hgti], [ceni], [widi]), 'k:', label='')\n",
        "\n",
        "## Title and labels\n",
        "ax1[0].set_title('$' + src + ': Gaussian$', fontsize=16)\n",
        "ax1[0].set_ylabel(r'$\\mathrm{T_{exp}\\ [K]}$', fontsize = 16)\n",
        "\n",
        "## X and Y ticks\n",
        "ax1[0].set_yticks(major_yticks)\n",
        "ax1[0].set_yticks(minor_yticks, minor=True)\n",
        "# ax1[0].set_xticks(major_xticks)\n",
        "# ax1[0].set_xticks(minor_xticks, minor=True)\n",
        "\n",
        "ax1[0].tick_params(which='y', width=2)\n",
        "ax1[0].tick_params(which='major', length=6)\n",
        "ax1[0].tick_params(which='minor', length=3)\n",
        "# ax1[0].tick_params(axis='x', labelsize=lbsz, pad=8, bottom=False, labelbottom=False)\n",
        "ax1[0].tick_params(axis='y', labelsize=lbsz)\n",
        "ax1[0].tick_params(axis='x',  which='both', bottom=False, top=True, labelbottom=False)\n",
        "ax1[0].grid(False)\n",
        "ax1[0].set_xticks([])\n",
        "ax1[0].spines['bottom'].set_visible(False)\n",
        "\n",
        "ax1[0].set_xlim(xlim)\n",
        "ax1[0].set_ylim(ylime)\n",
        "ax1[0].legend(loc='upper left', fontsize=lgds)\n",
        "\n",
        "\n",
        "# Axe - residuals\n",
        "major_xticks = np.arange(-100., 100., 25.)\n",
        "minor_xticks = np.arange(-100., 100., 5.)\n",
        "major_yticks = np.arange(-6., 6., 2.)\n",
        "minor_yticks = np.arange(-6., 6., 1.)\n",
        "axres.plot(vlsr, -sigtexp, color='k', ls=':', lw=1, label='')\n",
        "axres.plot(vlsr, sigtexp, color='k', ls=':', lw=1, label='')\n",
        "axres.plot(vlsr, gresid2, color='k', ls='-', label='$Residuals$')\n",
        "# axres.set_xticks([])\n",
        "\n",
        "axres.set_ylabel(r'$\\mathrm{Residuals}$', fontsize = 16)\n",
        "axres.set_yticks(major_yticks)\n",
        "axres.set_yticks(minor_yticks, minor=True)\n",
        "axres.set_xticks(major_xticks)\n",
        "axres.set_xticks(minor_xticks, minor=True)\n",
        "axres.tick_params(axis='x',  which='both', bottom=True, top=False, labelbottom=False)\n",
        "# ax1[0].tick_params(axis='y', labelsize=lbsz)\n",
        "axres.tick_params(which='both', width=2)\n",
        "axres.tick_params(which='major', length=6)\n",
        "axres.tick_params(which='minor', length=3)\n",
        "axres.grid(False)\n",
        "axres.spines['top'].set_visible(False) #axres.spines['top'].set_linewidth(0.5)\n",
        "axres.axhline(y=ylimeres[1], xmin=-100, xmax=100, c='k', ls='-.', linewidth=2)\n",
        "axres.set_xlim(xlim)\n",
        "axres.set_ylim(ylimeres)\n",
        "## End - Subplot 1\n",
        "\n",
        "\n",
        "\n",
        "\n",
        "## Absorption\n",
        "major_yticks = np.arange(0.2, 1.2, 0.1)\n",
        "minor_yticks = np.arange(0.2, 1.2, 0.05)\n",
        "\n",
        "## Plot ABS profile\n",
        "ax1[1].plot(vlsr, emt, 'k-', label=r'$e^{-\\tau}$')\n",
        "ax1[1].plot(xfitcnm, gfitcnm, 'b-', label='$Total\\ fit$')\n",
        "\n",
        "## Add new subplot in this panel for Residuals\n",
        "divider = make_axes_locatable(ax1[1])\n",
        "axres   = divider.append_axes('top', size='25%', pad=0, sharex=ax1[0])\n",
        "ax1[1].figure.add_axes(axres)     \n",
        "\n",
        "## Plot ABS fitted components\n",
        "for ceni,hgti,widi in zip(gcenc, ghgtc, gwidc):\n",
        "  ax1[1].plot( vlsr, np.exp(-gfunc(vlsr, 0., [hgti], [ceni], [widi]) ), 'k:', label='')\n",
        "\n",
        "## This is invisible - just for legend\n",
        "ax1[1].plot(-100., 1., color='k', ls=':', lw=1, label='$CNM\\ components$')\n",
        "# ax1[1].fill_between(vlsr, emt-sigemt, emt+sigemt, color='gray', label='')\n",
        "\n",
        "## X - Y labels\n",
        "ax1[1].set_ylabel(r'$e^{-\\tau}$', fontsize = 18)\n",
        "ax1[1].set_xlabel(r'$VLSR\\ [km\\ s^{-1}]$', fontsize = 16)\n",
        "\n",
        "## X and Y ticks\n",
        "ax1[1].set_yticks(major_yticks)\n",
        "ax1[1].set_yticks(minor_yticks, minor=True)\n",
        "ax1[1].set_xticks(major_xticks)\n",
        "ax1[1].set_xticks(minor_xticks, minor=True)\n",
        "ax1[1].tick_params(axis='x', labelsize=lbsz, pad=8)\n",
        "ax1[1].tick_params(axis='y', labelsize=lbsz)\n",
        "ax1[1].tick_params(which='both', width=2)\n",
        "ax1[1].tick_params(which='major', length=6)\n",
        "ax1[1].tick_params(which='minor', length=3)\n",
        "\n",
        "ax1[1].legend(loc='lower left', fontsize=lgds)\n",
        "ax1[1].spines['top'].set_visible(False)\n",
        "ax1[1].tick_params(axis='x',  which='both', bottom=True, top=False, labeltop=False) ## set invisible x label and ticks\n",
        "ax1[1].axhline(y=ylima[1], xmin=-100, xmax=100, c='k', ls='-.', linewidth=2)\n",
        "\n",
        "ax1[1].set_xlim(xlim)\n",
        "ax1[1].set_ylim(ylima)\n",
        "\n",
        "# Axe - residuals\n",
        "major_xticks = np.arange(-100., 100., 25.)\n",
        "minor_xticks = np.arange(-100., 100., 5.)\n",
        "major_yticks = np.arange(-0.06, 0.06, 0.02)\n",
        "minor_yticks = np.arange(-0.06, 0.06, 0.01)\n",
        "axres.plot(vlsr, -sigemt, color='k', ls=':', lw=1, label='')\n",
        "axres.plot(vlsr, sigemt, color='k', ls=':', lw=1, label='')\n",
        "axres.plot(xfitcnm, gresid1, color='k', ls='-', label='$Residuals$')\n",
        "\n",
        "axres.set_ylabel(r'$\\mathrm{Residuals}$', fontsize = 16)\n",
        "axres.set_yticks(major_yticks)\n",
        "axres.set_yticks(minor_yticks, minor=True)\n",
        "axres.set_xticks(major_xticks)\n",
        "axres.set_xticks(minor_xticks, minor=True)\n",
        "\n",
        "axres.tick_params(axis='x',  which='both', bottom=False, top=True, labelbottom=False)\n",
        "axres.tick_params(which='both', width=2)\n",
        "axres.tick_params(which='major', length=6)\n",
        "axres.tick_params(which='minor', length=3)\n",
        "axres.grid(False)\n",
        "axres.spines['bottom'].set_visible(False) #axres.spines['top'].set_linewidth(0.5)\n",
        "axres.set_xlim(xlim)\n",
        "axres.set_ylim(ylimares)\n",
        "## End - Subplot 2\n",
        "\n",
        "# Adjust the spaces between subplots\n",
        "plt.subplots_adjust(wspace=0.05, hspace=0.05)\n",
        "\n",
        "# Save the plot\n",
        "# plt.savefig(const.PLOTDIR+'eg_' + src + '_talk_s2.png', bbox_inches='tight', pad_inches=0.09, format='png', dpi=150)\n",
        "\n",
        "plt.show()\n",
        "plt.close(fig)"
      ],
      "execution_count": 50,
      "outputs": [
        {
          "output_type": "stream",
          "text": [
            "/usr/local/lib/python3.7/dist-packages/ipykernel_launcher.py:34: MatplotlibDeprecationWarning: Adding an axes using the same arguments as a previous axes currently reuses the earlier instance.  In a future version, a new instance will always be created and returned.  Meanwhile, this warning can be suppressed, and the future behavior ensured, by passing a unique label to each axes instance.\n",
            "/usr/local/lib/python3.7/dist-packages/ipykernel_launcher.py:116: MatplotlibDeprecationWarning: Adding an axes using the same arguments as a previous axes currently reuses the earlier instance.  In a future version, a new instance will always be created and returned.  Meanwhile, this warning can be suppressed, and the future behavior ensured, by passing a unique label to each axes instance.\n"
          ],
          "name": "stderr"
        },
        {
          "output_type": "display_data",
          "data": {
            "image/png": "[encoded data removed]",
            "text/plain": [
              "<Figure size 648x792 with 4 Axes>"
            ]
          },
          "metadata": {
            "tags": [],
            "needs_background": "light"
          }
        }
      ]
    }
  ]
}